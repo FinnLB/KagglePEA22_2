{
 "cells": [
  {
   "cell_type": "markdown",
   "metadata": {
    "pycharm": {
     "name": "#%% md\n"
    }
   },
   "source": [
    "Issue: Can argumentative elements be better identified if they are \"effective\"?"
   ]
  },
  {
   "cell_type": "code",
   "execution_count": 1,
   "metadata": {
    "pycharm": {
     "name": "#%%\n"
    }
   },
   "outputs": [],
   "source": [
    "import itertools\n",
    "import pandas as pd\n",
    "import nltk\n",
    "import experiment_util"
   ]
  },
  {
   "cell_type": "markdown",
   "metadata": {
    "pycharm": {
     "name": "#%% md\n"
    }
   },
   "source": [
    "Load gold-labeled data from the kaggle-competition as DataFrame and rename the columns such that existing code can be reused.  \n",
    "Also load predictions from the \"Don't Drop the Topic\"-experiments (https://aclanthology.org/2022.bea-1.17/) and rename the columns."
   ]
  },
  {
   "cell_type": "code",
   "execution_count": 2,
   "metadata": {
    "pycharm": {
     "name": "#%%\n"
    }
   },
   "outputs": [],
   "source": [
    "renaming_gold = {'essay_id': 'id', 'prediction_string': 'predictionstring'}\n",
    "renaming_pred = {'essay_id': 'id', 'prediction_string': 'predictionstring', 'discourse_type': 'class'}\n",
    "\n",
    "gold_df = pd.read_csv(\"merged.csv\")\n",
    "gold_df.rename(columns=renaming_gold, inplace=True)\n",
    "prediction_df = pd.read_csv(\"train1test2_prediction.csv\")\n",
    "prediction_df.rename(columns=renaming_pred, inplace=True)"
   ]
  },
  {
   "cell_type": "markdown",
   "metadata": {
    "pycharm": {
     "name": "#%% md\n"
    }
   },
   "source": [
    "Append an extra column with the effectiveness to the gold_df.  \n",
    "These additional gold-labels were gathered from a new kaggle-competition."
   ]
  },
  {
   "cell_type": "code",
   "execution_count": 3,
   "metadata": {
    "pycharm": {
     "name": "#%%\n"
    }
   },
   "outputs": [],
   "source": [
    "clusters_df = pd.read_csv('clusters_effectivness.csv').set_index('id')\n",
    "gold_df = gold_df.join(clusters_df, on='id')"
   ]
  },
  {
   "cell_type": "markdown",
   "metadata": {
    "pycharm": {
     "name": "#%% md\n"
    }
   },
   "source": [
    "Add columns based on the discourse_text containing:\n",
    "- only function words kept (content words replaced by their POS-tags),\n",
    "- bigrams of above\n",
    "- trigrams of above\n",
    "\n",
    "It is assumed that function words can be identified by the closed-class POS-tags below."
   ]
  },
  {
   "cell_type": "code",
   "execution_count": 4,
   "metadata": {
    "pycharm": {
     "name": "#%%\n"
    }
   },
   "outputs": [
    {
     "data": {
      "text/html": [
       "<div>\n",
       "<style scoped>\n",
       "    .dataframe tbody tr th:only-of-type {\n",
       "        vertical-align: middle;\n",
       "    }\n",
       "\n",
       "    .dataframe tbody tr th {\n",
       "        vertical-align: top;\n",
       "    }\n",
       "\n",
       "    .dataframe thead th {\n",
       "        text-align: right;\n",
       "    }\n",
       "</style>\n",
       "<table border=\"1\" class=\"dataframe\">\n",
       "  <thead>\n",
       "    <tr style=\"text-align: right;\">\n",
       "      <th></th>\n",
       "      <th>discourse_id</th>\n",
       "      <th>id</th>\n",
       "      <th>discourse_text</th>\n",
       "      <th>discourse_type</th>\n",
       "      <th>discourse_effectiveness</th>\n",
       "      <th>predictionstring</th>\n",
       "      <th>cluster</th>\n",
       "      <th>dt_tokenized</th>\n",
       "      <th>dt_only_function_words</th>\n",
       "      <th>dt_ofw_bigrams</th>\n",
       "      <th>dt_ofw_trigrams</th>\n",
       "    </tr>\n",
       "  </thead>\n",
       "  <tbody>\n",
       "    <tr>\n",
       "      <th>0</th>\n",
       "      <td>0013cc385424</td>\n",
       "      <td>007ACE74B050</td>\n",
       "      <td>Hi, i'm Isaac, i'm going to be writing about h...</td>\n",
       "      <td>Lead</td>\n",
       "      <td>Adequate</td>\n",
       "      <td>0 1 2 3 4 5 6 7 8 9 10 11 12 13 14 15 16 17 18...</td>\n",
       "      <td>1</td>\n",
       "      <td>[Hi, ,, i, 'm, Isaac, ,, i, 'm, going, to, be,...</td>\n",
       "      <td>[NNP, ,, NN, VBP, NNP, ,, NN, VBP, VBG, to, VB...</td>\n",
       "      <td>[(NNP, ,), (,, NN), (NN, VBP), (VBP, NNP), (NN...</td>\n",
       "      <td>[(NNP, ,, NN), (,, NN, VBP), (NN, VBP, NNP), (...</td>\n",
       "    </tr>\n",
       "    <tr>\n",
       "      <th>1</th>\n",
       "      <td>9704a709b505</td>\n",
       "      <td>007ACE74B050</td>\n",
       "      <td>On my perspective, I think that the face is a ...</td>\n",
       "      <td>Position</td>\n",
       "      <td>Adequate</td>\n",
       "      <td>67 68 69 70 71 72 73 74 75 76 77 78 79 80 81 8...</td>\n",
       "      <td>1</td>\n",
       "      <td>[On, my, perspective, ,, I, think, that, the, ...</td>\n",
       "      <td>[On, my, NN, ,, I, VBP, that, the, NN, VBZ, a,...</td>\n",
       "      <td>[(On, my), (my, NN), (NN, ,), (,, I), (I, VBP)...</td>\n",
       "      <td>[(On, my, NN), (my, NN, ,), (NN, ,, I), (,, I,...</td>\n",
       "    </tr>\n",
       "    <tr>\n",
       "      <th>2</th>\n",
       "      <td>c22adee811b6</td>\n",
       "      <td>007ACE74B050</td>\n",
       "      <td>I think that the face is a natural landform be...</td>\n",
       "      <td>Claim</td>\n",
       "      <td>Adequate</td>\n",
       "      <td>108 109 110 111 112 113 114 115 116 117 118 11...</td>\n",
       "      <td>1</td>\n",
       "      <td>[I, think, that, the, face, is, a, natural, la...</td>\n",
       "      <td>[I, VBP, that, the, NN, VBZ, a, JJ, NN, becaus...</td>\n",
       "      <td>[(I, VBP), (VBP, that), (that, the), (the, NN)...</td>\n",
       "      <td>[(I, VBP, that), (VBP, that, the), (that, the,...</td>\n",
       "    </tr>\n",
       "    <tr>\n",
       "      <th>3</th>\n",
       "      <td>a10d361e54e4</td>\n",
       "      <td>007ACE74B050</td>\n",
       "      <td>If life was on Mars, we would know by now. The...</td>\n",
       "      <td>Evidence</td>\n",
       "      <td>Adequate</td>\n",
       "      <td>129 130 131 132 133 134 135 136 137 138 139 14...</td>\n",
       "      <td>1</td>\n",
       "      <td>[If, life, was, on, Mars, ,, we, would, know, ...</td>\n",
       "      <td>[If, NN, VBD, on, NNP, ,, we, would, VB, by, R...</td>\n",
       "      <td>[(If, NN), (NN, VBD), (VBD, on), (on, NNP), (N...</td>\n",
       "      <td>[(If, NN, VBD), (NN, VBD, on), (VBD, on, NNP),...</td>\n",
       "    </tr>\n",
       "    <tr>\n",
       "      <th>4</th>\n",
       "      <td>db3e453ec4e2</td>\n",
       "      <td>007ACE74B050</td>\n",
       "      <td>People thought that the face was formed by ali...</td>\n",
       "      <td>Counterclaim</td>\n",
       "      <td>Adequate</td>\n",
       "      <td>201 202 203 204 205 206 207 208 209 210 211 21...</td>\n",
       "      <td>1</td>\n",
       "      <td>[People, thought, that, the, face, was, formed...</td>\n",
       "      <td>[NNS, VBD, that, the, NN, VBD, VBN, by, NNS, b...</td>\n",
       "      <td>[(NNS, VBD), (VBD, that), (that, the), (the, N...</td>\n",
       "      <td>[(NNS, VBD, that), (VBD, that, the), (that, th...</td>\n",
       "    </tr>\n",
       "    <tr>\n",
       "      <th>...</th>\n",
       "      <td>...</td>\n",
       "      <td>...</td>\n",
       "      <td>...</td>\n",
       "      <td>...</td>\n",
       "      <td>...</td>\n",
       "      <td>...</td>\n",
       "      <td>...</td>\n",
       "      <td>...</td>\n",
       "      <td>...</td>\n",
       "      <td>...</td>\n",
       "      <td>...</td>\n",
       "    </tr>\n",
       "    <tr>\n",
       "      <th>36760</th>\n",
       "      <td>9f63b687e76a</td>\n",
       "      <td>FFA381E58FC6</td>\n",
       "      <td>For many people they don't like only asking on...</td>\n",
       "      <td>Claim</td>\n",
       "      <td>Adequate</td>\n",
       "      <td>14 15 16 17 18 19 20 21 22 23 24 25 26 27 28 2...</td>\n",
       "      <td>5</td>\n",
       "      <td>[For, many, people, they, do, n't, like, only,...</td>\n",
       "      <td>[For, JJ, NNS, they, VBP, RB, like, RB, VBG, C...</td>\n",
       "      <td>[(For, JJ), (JJ, NNS), (NNS, they), (they, VBP...</td>\n",
       "      <td>[(For, JJ, NNS), (JJ, NNS, they), (NNS, they, ...</td>\n",
       "    </tr>\n",
       "    <tr>\n",
       "      <th>36761</th>\n",
       "      <td>9d5bd7d86212</td>\n",
       "      <td>FFA381E58FC6</td>\n",
       "      <td>also people have different views and opinions ...</td>\n",
       "      <td>Claim</td>\n",
       "      <td>Adequate</td>\n",
       "      <td>35 36 37 38 39 40 41 42 43</td>\n",
       "      <td>5</td>\n",
       "      <td>[also, people, have, different, views, and, op...</td>\n",
       "      <td>[RB, NNS, VBP, JJ, NNS, and, NNS, on, NNS, .]</td>\n",
       "      <td>[(RB, NNS), (NNS, VBP), (VBP, JJ), (JJ, NNS), ...</td>\n",
       "      <td>[(RB, NNS, VBP), (NNS, VBP, JJ), (VBP, JJ, NNS...</td>\n",
       "    </tr>\n",
       "    <tr>\n",
       "      <th>36762</th>\n",
       "      <td>f1b78becd573</td>\n",
       "      <td>FFA381E58FC6</td>\n",
       "      <td>Advice is something that can impact a persons ...</td>\n",
       "      <td>Position</td>\n",
       "      <td>Adequate</td>\n",
       "      <td>44 45 46 47 48 49 50 51 52 53 54 55 56 57 58 5...</td>\n",
       "      <td>5</td>\n",
       "      <td>[Advice, is, something, that, can, impact, a, ...</td>\n",
       "      <td>[NNP, VBZ, NN, that, can, VB, a, NNS, NN, in, ...</td>\n",
       "      <td>[(NNP, VBZ), (VBZ, NN), (NN, that), (that, can...</td>\n",
       "      <td>[(NNP, VBZ, NN), (VBZ, NN, that), (NN, that, c...</td>\n",
       "    </tr>\n",
       "    <tr>\n",
       "      <th>36763</th>\n",
       "      <td>cc184624ca8e</td>\n",
       "      <td>FFA381E58FC6</td>\n",
       "      <td>someone can use everything that many people sa...</td>\n",
       "      <td>Evidence</td>\n",
       "      <td>Ineffective</td>\n",
       "      <td>80 81 82 83 84 85 86 87 88 89 90 91 92 93 94 9...</td>\n",
       "      <td>5</td>\n",
       "      <td>[someone, can, use, everything, that, many, pe...</td>\n",
       "      <td>[NN, can, VB, NN, that, JJ, NNS, VBD, and, VB,...</td>\n",
       "      <td>[(NN, can), (can, VB), (VB, NN), (NN, that), (...</td>\n",
       "      <td>[(NN, can, VB), (can, VB, NN), (VB, NN, that),...</td>\n",
       "    </tr>\n",
       "    <tr>\n",
       "      <th>36764</th>\n",
       "      <td>c8a973681feb</td>\n",
       "      <td>FFA381E58FC6</td>\n",
       "      <td>In conclusion asking for an opinion can be ben...</td>\n",
       "      <td>Concluding Statement</td>\n",
       "      <td>Ineffective</td>\n",
       "      <td>162 163 164 165 166 167 168 169 170 171 172</td>\n",
       "      <td>5</td>\n",
       "      <td>[In, conclusion, asking, for, an, opinion, can...</td>\n",
       "      <td>[In, NN, VBG, for, an, NN, can, VB, JJ, to, NN...</td>\n",
       "      <td>[(In, NN), (NN, VBG), (VBG, for), (for, an), (...</td>\n",
       "      <td>[(In, NN, VBG), (NN, VBG, for), (VBG, for, an)...</td>\n",
       "    </tr>\n",
       "  </tbody>\n",
       "</table>\n",
       "<p>36765 rows × 11 columns</p>\n",
       "</div>"
      ],
      "text/plain": [
       "       discourse_id            id  \\\n",
       "0      0013cc385424  007ACE74B050   \n",
       "1      9704a709b505  007ACE74B050   \n",
       "2      c22adee811b6  007ACE74B050   \n",
       "3      a10d361e54e4  007ACE74B050   \n",
       "4      db3e453ec4e2  007ACE74B050   \n",
       "...             ...           ...   \n",
       "36760  9f63b687e76a  FFA381E58FC6   \n",
       "36761  9d5bd7d86212  FFA381E58FC6   \n",
       "36762  f1b78becd573  FFA381E58FC6   \n",
       "36763  cc184624ca8e  FFA381E58FC6   \n",
       "36764  c8a973681feb  FFA381E58FC6   \n",
       "\n",
       "                                          discourse_text  \\\n",
       "0      Hi, i'm Isaac, i'm going to be writing about h...   \n",
       "1      On my perspective, I think that the face is a ...   \n",
       "2      I think that the face is a natural landform be...   \n",
       "3      If life was on Mars, we would know by now. The...   \n",
       "4      People thought that the face was formed by ali...   \n",
       "...                                                  ...   \n",
       "36760  For many people they don't like only asking on...   \n",
       "36761  also people have different views and opinions ...   \n",
       "36762  Advice is something that can impact a persons ...   \n",
       "36763  someone can use everything that many people sa...   \n",
       "36764  In conclusion asking for an opinion can be ben...   \n",
       "\n",
       "             discourse_type discourse_effectiveness  \\\n",
       "0                      Lead                Adequate   \n",
       "1                  Position                Adequate   \n",
       "2                     Claim                Adequate   \n",
       "3                  Evidence                Adequate   \n",
       "4              Counterclaim                Adequate   \n",
       "...                     ...                     ...   \n",
       "36760                 Claim                Adequate   \n",
       "36761                 Claim                Adequate   \n",
       "36762              Position                Adequate   \n",
       "36763              Evidence             Ineffective   \n",
       "36764  Concluding Statement             Ineffective   \n",
       "\n",
       "                                        predictionstring  cluster  \\\n",
       "0      0 1 2 3 4 5 6 7 8 9 10 11 12 13 14 15 16 17 18...        1   \n",
       "1      67 68 69 70 71 72 73 74 75 76 77 78 79 80 81 8...        1   \n",
       "2      108 109 110 111 112 113 114 115 116 117 118 11...        1   \n",
       "3      129 130 131 132 133 134 135 136 137 138 139 14...        1   \n",
       "4      201 202 203 204 205 206 207 208 209 210 211 21...        1   \n",
       "...                                                  ...      ...   \n",
       "36760  14 15 16 17 18 19 20 21 22 23 24 25 26 27 28 2...        5   \n",
       "36761                         35 36 37 38 39 40 41 42 43        5   \n",
       "36762  44 45 46 47 48 49 50 51 52 53 54 55 56 57 58 5...        5   \n",
       "36763  80 81 82 83 84 85 86 87 88 89 90 91 92 93 94 9...        5   \n",
       "36764        162 163 164 165 166 167 168 169 170 171 172        5   \n",
       "\n",
       "                                            dt_tokenized  \\\n",
       "0      [Hi, ,, i, 'm, Isaac, ,, i, 'm, going, to, be,...   \n",
       "1      [On, my, perspective, ,, I, think, that, the, ...   \n",
       "2      [I, think, that, the, face, is, a, natural, la...   \n",
       "3      [If, life, was, on, Mars, ,, we, would, know, ...   \n",
       "4      [People, thought, that, the, face, was, formed...   \n",
       "...                                                  ...   \n",
       "36760  [For, many, people, they, do, n't, like, only,...   \n",
       "36761  [also, people, have, different, views, and, op...   \n",
       "36762  [Advice, is, something, that, can, impact, a, ...   \n",
       "36763  [someone, can, use, everything, that, many, pe...   \n",
       "36764  [In, conclusion, asking, for, an, opinion, can...   \n",
       "\n",
       "                                  dt_only_function_words  \\\n",
       "0      [NNP, ,, NN, VBP, NNP, ,, NN, VBP, VBG, to, VB...   \n",
       "1      [On, my, NN, ,, I, VBP, that, the, NN, VBZ, a,...   \n",
       "2      [I, VBP, that, the, NN, VBZ, a, JJ, NN, becaus...   \n",
       "3      [If, NN, VBD, on, NNP, ,, we, would, VB, by, R...   \n",
       "4      [NNS, VBD, that, the, NN, VBD, VBN, by, NNS, b...   \n",
       "...                                                  ...   \n",
       "36760  [For, JJ, NNS, they, VBP, RB, like, RB, VBG, C...   \n",
       "36761      [RB, NNS, VBP, JJ, NNS, and, NNS, on, NNS, .]   \n",
       "36762  [NNP, VBZ, NN, that, can, VB, a, NNS, NN, in, ...   \n",
       "36763  [NN, can, VB, NN, that, JJ, NNS, VBD, and, VB,...   \n",
       "36764  [In, NN, VBG, for, an, NN, can, VB, JJ, to, NN...   \n",
       "\n",
       "                                          dt_ofw_bigrams  \\\n",
       "0      [(NNP, ,), (,, NN), (NN, VBP), (VBP, NNP), (NN...   \n",
       "1      [(On, my), (my, NN), (NN, ,), (,, I), (I, VBP)...   \n",
       "2      [(I, VBP), (VBP, that), (that, the), (the, NN)...   \n",
       "3      [(If, NN), (NN, VBD), (VBD, on), (on, NNP), (N...   \n",
       "4      [(NNS, VBD), (VBD, that), (that, the), (the, N...   \n",
       "...                                                  ...   \n",
       "36760  [(For, JJ), (JJ, NNS), (NNS, they), (they, VBP...   \n",
       "36761  [(RB, NNS), (NNS, VBP), (VBP, JJ), (JJ, NNS), ...   \n",
       "36762  [(NNP, VBZ), (VBZ, NN), (NN, that), (that, can...   \n",
       "36763  [(NN, can), (can, VB), (VB, NN), (NN, that), (...   \n",
       "36764  [(In, NN), (NN, VBG), (VBG, for), (for, an), (...   \n",
       "\n",
       "                                         dt_ofw_trigrams  \n",
       "0      [(NNP, ,, NN), (,, NN, VBP), (NN, VBP, NNP), (...  \n",
       "1      [(On, my, NN), (my, NN, ,), (NN, ,, I), (,, I,...  \n",
       "2      [(I, VBP, that), (VBP, that, the), (that, the,...  \n",
       "3      [(If, NN, VBD), (NN, VBD, on), (VBD, on, NNP),...  \n",
       "4      [(NNS, VBD, that), (VBD, that, the), (that, th...  \n",
       "...                                                  ...  \n",
       "36760  [(For, JJ, NNS), (JJ, NNS, they), (NNS, they, ...  \n",
       "36761  [(RB, NNS, VBP), (NNS, VBP, JJ), (VBP, JJ, NNS...  \n",
       "36762  [(NNP, VBZ, NN), (VBZ, NN, that), (NN, that, c...  \n",
       "36763  [(NN, can, VB), (can, VB, NN), (VB, NN, that),...  \n",
       "36764  [(In, NN, VBG), (NN, VBG, for), (VBG, for, an)...  \n",
       "\n",
       "[36765 rows x 11 columns]"
      ]
     },
     "execution_count": 4,
     "metadata": {},
     "output_type": "execute_result"
    }
   ],
   "source": [
    "closed_class_pos_tags = [\"Cd\", \"CC\", \"DT\", \"EX\", \"IN\", \"LS\", \"MD\", \"PDT\", \"POS\",\n",
    "                         \"PRP\", \"PRP$\", \"RP\", \"TO\", \"UH\", \"WDT\", \"WP\", \"WP$\", \"WRB\"]\n",
    "gold_df['dt_tokenized'] = [nltk.tokenize.word_tokenize(dt) for dt in gold_df['discourse_text']]\n",
    "tagged_tokens_dts = [nltk.pos_tag(dt) for dt in gold_df['dt_tokenized']]\n",
    "dts_only_function_words = []\n",
    "dts_ofw_bigrams = []\n",
    "dts_ofw_trigrams = []\n",
    "for tagged_tokens in tagged_tokens_dts:\n",
    "    dt_only_function_words = [(tagged_token[0] if tagged_token[1] in closed_class_pos_tags else tagged_token[1]) for tagged_token in tagged_tokens]\n",
    "    dts_only_function_words.append(dt_only_function_words)\n",
    "    dts_ofw_bigrams.append(list(nltk.bigrams(dt_only_function_words)))\n",
    "    dts_ofw_trigrams.append(list(nltk.trigrams(dt_only_function_words)))\n",
    "\n",
    "gold_df['dt_only_function_words'] = dts_only_function_words\n",
    "gold_df['dt_ofw_bigrams'] = dts_ofw_bigrams\n",
    "gold_df['dt_ofw_trigrams'] = dts_ofw_trigrams\n",
    "gold_df"
   ]
  },
  {
   "cell_type": "markdown",
   "metadata": {
    "pycharm": {
     "name": "#%% md\n"
    }
   },
   "source": [
    "split up gold_df by effectiveness"
   ]
  },
  {
   "cell_type": "code",
   "execution_count": 5,
   "metadata": {
    "pycharm": {
     "name": "#%%\n"
    }
   },
   "outputs": [],
   "source": [
    "gold_df_effective = gold_df[gold_df.discourse_effectiveness == 'Effective']\n",
    "gold_df_effective.to_csv('gold_effective.csv')\n",
    "gold_df_adequate = gold_df[gold_df.discourse_effectiveness == 'Adequate']\n",
    "gold_df_adequate.to_csv('gold_adequate.csv')\n",
    "gold_df_ineffective = gold_df[gold_df.discourse_effectiveness == 'Ineffective']\n",
    "gold_df_ineffective.to_csv('gold_ineffective.csv')"
   ]
  },
  {
   "cell_type": "markdown",
   "metadata": {
    "pycharm": {
     "name": "#%% md\n"
    }
   },
   "source": [
    "Evaluate the prediction scores for all, effective, adequate and ineffective discourses respectively.  \n",
    "Notice that **F1** is **not well suited** for comparison **here**.\n",
    "This is because any unmatched predictions are counted as *false positives*."
   ]
  },
  {
   "cell_type": "code",
   "execution_count": 6,
   "metadata": {
    "pycharm": {
     "name": "#%%\n"
    }
   },
   "outputs": [
    {
     "name": "stdout",
     "output_type": "stream",
     "text": [
      "Overall evaluation: 0.5544623497603323\n"
     ]
    },
    {
     "data": {
      "text/plain": [
       "{'Lead': {'TP': 1673,\n",
       "  'FP': 699,\n",
       "  'FN': 619,\n",
       "  'Precision': 0.7299301919720768,\n",
       "  'Recall': 0.7053119730185498,\n",
       "  'F1': 0.717409948542024},\n",
       " 'Position': {'TP': 1965,\n",
       "  'FP': 1104,\n",
       "  'FN': 2060,\n",
       "  'Precision': 0.48819875776397514,\n",
       "  'Recall': 0.6402737047898338,\n",
       "  'F1': 0.5539892867211729},\n",
       " 'Claim': {'TP': 4118,\n",
       "  'FP': 4255,\n",
       "  'FN': 7860,\n",
       "  'Precision': 0.34379696109534147,\n",
       "  'Recall': 0.49181894183685654,\n",
       "  'F1': 0.4046975578595646},\n",
       " 'Evidence': {'TP': 7321,\n",
       "  'FP': 4649,\n",
       "  'FN': 4785,\n",
       "  'Precision': 0.6047414505204031,\n",
       "  'Recall': 0.6116123642439432,\n",
       "  'F1': 0.6081575012460542},\n",
       " 'Counterclaim': {'TP': 836,\n",
       "  'FP': 931,\n",
       "  'FN': 938,\n",
       "  'Precision': 0.47125140924464487,\n",
       "  'Recall': 0.4731182795698925,\n",
       "  'F1': 0.4721829991527817},\n",
       " 'Rebuttal': {'TP': 460,\n",
       "  'FP': 614,\n",
       "  'FN': 785,\n",
       "  'Precision': 0.36947791164658633,\n",
       "  'Recall': 0.42830540037243947,\n",
       "  'F1': 0.39672272531263475},\n",
       " 'Concluding Statement': {'TP': 2553,\n",
       "  'FP': 1108,\n",
       "  'FN': 799,\n",
       "  'Precision': 0.7616348448687351,\n",
       "  'Recall': 0.697350450696531,\n",
       "  'F1': 0.7280764294880936},\n",
       " 'overall': {'TP': 18926,\n",
       "  'FP': 13360,\n",
       "  'FN': 17846,\n",
       "  'Precision': 0.5146850864788426,\n",
       "  'Recall': 0.5861983522269715,\n",
       "  'F1': 0.5544623497603323}}"
      ]
     },
     "execution_count": 6,
     "metadata": {},
     "output_type": "execute_result"
    }
   ],
   "source": [
    "experiment_util.model_evaluate(prediction_df, gold_df)[1]"
   ]
  },
  {
   "cell_type": "code",
   "execution_count": 7,
   "metadata": {
    "pycharm": {
     "name": "#%%\n"
    }
   },
   "outputs": [
    {
     "name": "stdout",
     "output_type": "stream",
     "text": [
      "Overall evaluation: 0.1195244716633719\n"
     ]
    },
    {
     "data": {
      "text/plain": [
       "{'Rebuttal': {'TP': 60,\n",
       "  'FP': 1014,\n",
       "  'FN': 152,\n",
       "  'Precision': 0.2830188679245283,\n",
       "  'Recall': 0.055865921787709494,\n",
       "  'F1': 0.09331259720062209},\n",
       " 'Evidence': {'TP': 1610,\n",
       "  'FP': 10356,\n",
       "  'FN': 1547,\n",
       "  'Precision': 0.5099778270509978,\n",
       "  'Recall': 0.13454788567608222,\n",
       "  'F1': 0.2129207167889969},\n",
       " 'Claim': {'TP': 457,\n",
       "  'FP': 7878,\n",
       "  'FN': 1019,\n",
       "  'Precision': 0.30962059620596205,\n",
       "  'Recall': 0.05482903419316137,\n",
       "  'F1': 0.09316073794720212},\n",
       " 'Counterclaim': {'TP': 70,\n",
       "  'FP': 1697,\n",
       "  'FN': 136,\n",
       "  'Precision': 0.33980582524271846,\n",
       "  'Recall': 0.039615166949632144,\n",
       "  'F1': 0.07095793208312215},\n",
       " 'Position': {'TP': 140,\n",
       "  'FP': 2929,\n",
       "  'FN': 331,\n",
       "  'Precision': 0.29723991507430997,\n",
       "  'Recall': 0.045617464972303685,\n",
       "  'F1': 0.07909604519774012},\n",
       " 'Lead': {'TP': 186,\n",
       "  'FP': 2186,\n",
       "  'FN': 179,\n",
       "  'Precision': 0.5095890410958904,\n",
       "  'Recall': 0.07841483979763912,\n",
       "  'F1': 0.1359152356594812},\n",
       " 'Concluding Statement': {'TP': 321,\n",
       "  'FP': 3340,\n",
       "  'FN': 261,\n",
       "  'Precision': 0.5515463917525774,\n",
       "  'Recall': 0.08768096148593281,\n",
       "  'F1': 0.15130803676643884},\n",
       " 'overall': {'TP': 2844,\n",
       "  'FP': 29400,\n",
       "  'FN': 3625,\n",
       "  'Precision': 0.43963518318132633,\n",
       "  'Recall': 0.08820245627093412,\n",
       "  'F1': 0.1195244716633719}}"
      ]
     },
     "execution_count": 7,
     "metadata": {},
     "output_type": "execute_result"
    }
   ],
   "source": [
    "experiment_util.model_evaluate(prediction_df.copy(), gold_df_ineffective.copy())[1]"
   ]
  },
  {
   "cell_type": "code",
   "execution_count": 8,
   "metadata": {
    "pycharm": {
     "name": "#%%\n"
    }
   },
   "outputs": [
    {
     "name": "stdout",
     "output_type": "stream",
     "text": [
      "Overall evaluation: 0.4020783330457223\n"
     ]
    },
    {
     "data": {
      "text/plain": [
       "{'Lead': {'TP': 886,\n",
       "  'FP': 1486,\n",
       "  'FN': 359,\n",
       "  'Precision': 0.7116465863453815,\n",
       "  'Recall': 0.37352445193929174,\n",
       "  'F1': 0.489908764169201},\n",
       " 'Position': {'TP': 1394,\n",
       "  'FP': 1675,\n",
       "  'FN': 1391,\n",
       "  'Precision': 0.5005385996409336,\n",
       "  'Recall': 0.4542196155099381,\n",
       "  'F1': 0.4762555517594807},\n",
       " 'Claim': {'TP': 2271,\n",
       "  'FP': 6083,\n",
       "  'FN': 4827,\n",
       "  'Precision': 0.31994928148774304,\n",
       "  'Recall': 0.27184582236054583,\n",
       "  'F1': 0.29394253171110535},\n",
       " 'Evidence': {'TP': 3457,\n",
       "  'FP': 8508,\n",
       "  'FN': 2608,\n",
       "  'Precision': 0.5699917559769168,\n",
       "  'Recall': 0.28892603426661095,\n",
       "  'F1': 0.3834719911259013},\n",
       " 'Counterclaim': {'TP': 497,\n",
       "  'FP': 1270,\n",
       "  'FN': 654,\n",
       "  'Precision': 0.4317984361424848,\n",
       "  'Recall': 0.2812676853423882,\n",
       "  'F1': 0.3406442769019877},\n",
       " 'Concluding Statement': {'TP': 1554,\n",
       "  'FP': 2107,\n",
       "  'FN': 392,\n",
       "  'Precision': 0.7985611510791367,\n",
       "  'Recall': 0.42447418738049714,\n",
       "  'F1': 0.5543071161048689},\n",
       " 'Rebuttal': {'TP': 244,\n",
       "  'FP': 830,\n",
       "  'FN': 450,\n",
       "  'Precision': 0.3515850144092219,\n",
       "  'Recall': 0.2271880819366853,\n",
       "  'F1': 0.27601809954751133},\n",
       " 'overall': {'TP': 10303,\n",
       "  'FP': 21959,\n",
       "  'FN': 10681,\n",
       "  'Precision': 0.4909931376286695,\n",
       "  'Recall': 0.31935403880726554,\n",
       "  'F1': 0.4020783330457223}}"
      ]
     },
     "execution_count": 8,
     "metadata": {},
     "output_type": "execute_result"
    }
   ],
   "source": [
    "experiment_util.model_evaluate(prediction_df.copy(), gold_df_adequate.copy())[1]"
   ]
  },
  {
   "cell_type": "code",
   "execution_count": 9,
   "metadata": {
    "pycharm": {
     "name": "#%%\n"
    }
   },
   "outputs": [
    {
     "name": "stdout",
     "output_type": "stream",
     "text": [
      "Overall evaluation: 0.275240039779121\n"
     ]
    },
    {
     "data": {
      "text/plain": [
       "{'Lead': {'TP': 601,\n",
       "  'FP': 1771,\n",
       "  'FN': 83,\n",
       "  'Precision': 0.8786549707602339,\n",
       "  'Recall': 0.2533726812816189,\n",
       "  'F1': 0.3933246073298429},\n",
       " 'Position': {'TP': 431,\n",
       "  'FP': 2638,\n",
       "  'FN': 340,\n",
       "  'Precision': 0.5590142671854734,\n",
       "  'Recall': 0.14043662430759205,\n",
       "  'F1': 0.22447916666666667},\n",
       " 'Evidence': {'TP': 2254,\n",
       "  'FP': 9711,\n",
       "  'FN': 632,\n",
       "  'Precision': 0.781011781011781,\n",
       "  'Recall': 0.18838278311742582,\n",
       "  'F1': 0.30354858258703116},\n",
       " 'Claim': {'TP': 1390,\n",
       "  'FP': 6958,\n",
       "  'FN': 2016,\n",
       "  'Precision': 0.40810334703464474,\n",
       "  'Recall': 0.16650694777192143,\n",
       "  'F1': 0.236515228858261},\n",
       " 'Concluding Statement': {'TP': 678,\n",
       "  'FP': 2983,\n",
       "  'FN': 148,\n",
       "  'Precision': 0.8208232445520581,\n",
       "  'Recall': 0.18519530183010108,\n",
       "  'F1': 0.3022063739692445},\n",
       " 'Counterclaim': {'TP': 269,\n",
       "  'FP': 1498,\n",
       "  'FN': 150,\n",
       "  'Precision': 0.6420047732696897,\n",
       "  'Recall': 0.1522354272778721,\n",
       "  'F1': 0.24611161939615736},\n",
       " 'Rebuttal': {'TP': 156,\n",
       "  'FP': 918,\n",
       "  'FN': 185,\n",
       "  'Precision': 0.4574780058651026,\n",
       "  'Recall': 0.1452513966480447,\n",
       "  'F1': 0.22049469964664312},\n",
       " 'overall': {'TP': 5779,\n",
       "  'FP': 26477,\n",
       "  'FN': 3554,\n",
       "  'Precision': 0.6192006857387764,\n",
       "  'Recall': 0.17916046626984128,\n",
       "  'F1': 0.275240039779121}}"
      ]
     },
     "execution_count": 9,
     "metadata": {},
     "output_type": "execute_result"
    }
   ],
   "source": [
    "experiment_util.model_evaluate(prediction_df.copy(), gold_df_effective.copy())[1]"
   ]
  },
  {
   "cell_type": "markdown",
   "metadata": {
    "pycharm": {
     "name": "#%% md\n"
    }
   },
   "source": [
    "Define how to measure the overlap between two arguments.  \n",
    "`calc_overlap_mtc` is a variation of `experiment_util.calc_overlap`, but it considers multiple occurrences of a token."
   ]
  },
  {
   "cell_type": "code",
   "execution_count": 10,
   "metadata": {
    "pycharm": {
     "name": "#%%\n"
    }
   },
   "outputs": [],
   "source": [
    "def calc_overlap_mtc(a: list, b):\n",
    "    # Length of each and intersection\n",
    "    try:\n",
    "        len_a = len(a)\n",
    "        len_b = len(b)\n",
    "        inter = 0\n",
    "        for tok in (set(a) & set(b)):\n",
    "            inter += min(a.count(tok), b.count(tok))\n",
    "        overlap_1 = inter / len_a\n",
    "        overlap_2 = inter / len_b\n",
    "        return overlap_1, overlap_2\n",
    "    except:  # at least one of the input is NaN\n",
    "        return 0, 0"
   ]
  },
  {
   "cell_type": "code",
   "execution_count": 11,
   "metadata": {
    "pycharm": {
     "name": "#%%\n"
    }
   },
   "outputs": [],
   "source": [
    "# similarity-function between two arguments\n",
    "def argument_similarity(arg1, arg2):\n",
    "    overlap = calc_overlap_mtc(arg1, arg2)\n",
    "    return (overlap[0] + overlap[1]) / 2"
   ]
  },
  {
   "cell_type": "code",
   "execution_count": 12,
   "metadata": {
    "pycharm": {
     "name": "#%%\n"
    }
   },
   "outputs": [],
   "source": [
    "def mean_arg_similarity_per_selection(gold_df, dt_column, selector = 'cluster', scnd_gold_df = None):\n",
    "    mean_similarities = dict()\n",
    "    overall_sum_similarity = 0\n",
    "    overall_comb_cnt = 0\n",
    "    for selection in list(set(gold_df[selector].values)):    # for each cluster/ label\n",
    "        gold_df_selection = gold_df[gold_df[selector] == selection]\n",
    "        dtext_tokens = gold_df_selection[dt_column]\n",
    "\n",
    "        if scnd_gold_df is not None:\n",
    "            gold_df_selection2 = scnd_gold_df[scnd_gold_df[selector] == selection]\n",
    "            dtext_tokens2 = gold_df_selection2[dt_column]\n",
    "            dt_combinations = list(itertools.product(dtext_tokens, dtext_tokens2))\n",
    "        else:\n",
    "            dt_combinations = list(itertools.combinations(dtext_tokens, 2))\n",
    "\n",
    "        mean_similarities[selection] = 0\n",
    "        for dt_combination in dt_combinations:\n",
    "            arg_similarity = argument_similarity(*dt_combination)\n",
    "            mean_similarities[selection] += arg_similarity\n",
    "            overall_sum_similarity += arg_similarity\n",
    "        mean_similarities[selection] /= len(dt_combinations)\n",
    "        overall_comb_cnt += len(dt_combinations)\n",
    "\n",
    "    print(\"⌀ =\", sum(mean_similarities.values()) / len(mean_similarities.values()))\n",
    "    print(\"⌀ w =\", overall_sum_similarity / overall_comb_cnt)\n",
    "    return mean_similarities"
   ]
  },
  {
   "cell_type": "code",
   "execution_count": 13,
   "metadata": {
    "pycharm": {
     "name": "#%%\n"
    }
   },
   "outputs": [
    {
     "name": "stdout",
     "output_type": "stream",
     "text": [
      "⌀ = 0.23102810797794338\n",
      "⌀ w = 0.23258378300264532\n"
     ]
    },
    {
     "data": {
      "text/plain": [
       "{0: 0.2553660146358815,\n",
       " 1: 0.23979365127001806,\n",
       " 2: 0.23427370530567104,\n",
       " 3: 0.2504519478221547,\n",
       " 4: 0.22444682104281952,\n",
       " 5: 0.23153646604271697,\n",
       " 6: 0.23589694532730193,\n",
       " 7: 0.20704920948803238,\n",
       " 8: 0.2465095575256454,\n",
       " 9: 0.22656748282813344,\n",
       " 10: 0.21439873550258368,\n",
       " 11: 0.22344570324985838,\n",
       " 12: 0.21514813570453029,\n",
       " 13: 0.2273226452217507,\n",
       " 14: 0.2332145987020533}"
      ]
     },
     "execution_count": 13,
     "metadata": {},
     "output_type": "execute_result"
    }
   ],
   "source": [
    "mean_arg_similarity_per_selection(gold_df_effective, 'dt_tokenized', 'cluster')"
   ]
  },
  {
   "cell_type": "code",
   "execution_count": 14,
   "metadata": {
    "pycharm": {
     "name": "#%%\n"
    }
   },
   "outputs": [
    {
     "name": "stdout",
     "output_type": "stream",
     "text": [
      "⌀ = 0.1820172560765008\n",
      "⌀ w = 0.1892141956250927\n"
     ]
    },
    {
     "data": {
      "text/plain": [
       "{0: 0.201171482338953,\n",
       " 1: 0.1795685315730087,\n",
       " 2: 0.19311806072397436,\n",
       " 3: 0.1882006634885314,\n",
       " 4: 0.18858068785696894,\n",
       " 5: 0.14888545096092365,\n",
       " 6: 0.17173026578887585,\n",
       " 7: 0.20898713086424894,\n",
       " 8: 0.20162169536842123,\n",
       " 9: 0.17295999089757833,\n",
       " 10: 0.16186749012766166,\n",
       " 11: 0.1949377386349762,\n",
       " 12: 0.14761373852826537,\n",
       " 13: 0.1803651180704469,\n",
       " 14: 0.19065079592467762}"
      ]
     },
     "execution_count": 14,
     "metadata": {},
     "output_type": "execute_result"
    }
   ],
   "source": [
    "mean_arg_similarity_per_selection(gold_df_ineffective, 'dt_tokenized', 'cluster')"
   ]
  },
  {
   "cell_type": "code",
   "execution_count": 15,
   "metadata": {
    "pycharm": {
     "name": "#%%\n"
    }
   },
   "outputs": [
    {
     "name": "stdout",
     "output_type": "stream",
     "text": [
      "⌀ = 0.1974087607990022\n",
      "⌀ w = 0.20289743353317716\n"
     ]
    },
    {
     "data": {
      "text/plain": [
       "{0: 0.21613967248740934,\n",
       " 1: 0.1951705163060201,\n",
       " 2: 0.2087695704743159,\n",
       " 3: 0.20747808233064222,\n",
       " 4: 0.19990741489530628,\n",
       " 5: 0.18801407259714523,\n",
       " 6: 0.195446818385501,\n",
       " 7: 0.19745948604486424,\n",
       " 8: 0.21488956926890154,\n",
       " 9: 0.18077204753004752,\n",
       " 10: 0.18439039003874186,\n",
       " 11: 0.19826165515075636,\n",
       " 12: 0.1747680782505798,\n",
       " 13: 0.1945511144561894,\n",
       " 14: 0.20511292376861223}"
      ]
     },
     "execution_count": 15,
     "metadata": {},
     "output_type": "execute_result"
    }
   ],
   "source": [
    "mean_arg_similarity_per_selection(gold_df_effective, 'dt_tokenized', 'cluster', gold_df_ineffective)"
   ]
  },
  {
   "cell_type": "code",
   "execution_count": 16,
   "metadata": {
    "pycharm": {
     "name": "#%%\n"
    }
   },
   "outputs": [
    {
     "name": "stdout",
     "output_type": "stream",
     "text": [
      "⌀ = 0.20213715086974485\n",
      "⌀ w = 0.18837435698984514\n"
     ]
    },
    {
     "data": {
      "text/plain": [
       "{'Lead': 0.23009351324160646,\n",
       " 'Position': 0.16130425353319394,\n",
       " 'Concluding Statement': 0.2636050353610914,\n",
       " 'Claim': 0.13666628453010496,\n",
       " 'Rebuttal': 0.19820470069204202,\n",
       " 'Counterclaim': 0.17100825527584068,\n",
       " 'Evidence': 0.2540780134543343}"
      ]
     },
     "execution_count": 16,
     "metadata": {},
     "output_type": "execute_result"
    }
   ],
   "source": [
    "mean_arg_similarity_per_selection(gold_df_effective, 'dt_tokenized', 'discourse_type')"
   ]
  },
  {
   "cell_type": "code",
   "execution_count": 17,
   "metadata": {
    "pycharm": {
     "name": "#%%\n"
    }
   },
   "outputs": [
    {
     "name": "stdout",
     "output_type": "stream",
     "text": [
      "⌀ = 0.14412021868046038\n",
      "⌀ w = 0.17588530504480662\n"
     ]
    },
    {
     "data": {
      "text/plain": [
       "{'Position': 0.12097737566129627,\n",
       " 'Lead': 0.14130486807803358,\n",
       " 'Concluding Statement': 0.1648989357802526,\n",
       " 'Claim': 0.11401936173397711,\n",
       " 'Rebuttal': 0.15777091955685596,\n",
       " 'Counterclaim': 0.1181068246673512,\n",
       " 'Evidence': 0.19176324528545585}"
      ]
     },
     "execution_count": 17,
     "metadata": {},
     "output_type": "execute_result"
    }
   ],
   "source": [
    "mean_arg_similarity_per_selection(gold_df_ineffective, 'dt_tokenized', 'discourse_type')"
   ]
  },
  {
   "cell_type": "code",
   "execution_count": 18,
   "metadata": {
    "pycharm": {
     "name": "#%%\n"
    }
   },
   "outputs": [
    {
     "name": "stdout",
     "output_type": "stream",
     "text": [
      "⌀ = 0.16363737601659833\n",
      "⌀ w = 0.17987875241835014\n"
     ]
    },
    {
     "data": {
      "text/plain": [
       "{'Lead': 0.1793192500816503,\n",
       " 'Position': 0.13076976221649683,\n",
       " 'Concluding Statement': 0.19770325234185243,\n",
       " 'Claim': 0.1181670817132529,\n",
       " 'Rebuttal': 0.16702289638231493,\n",
       " 'Counterclaim': 0.13702686550087342,\n",
       " 'Evidence': 0.21545252387974764}"
      ]
     },
     "execution_count": 18,
     "metadata": {},
     "output_type": "execute_result"
    }
   ],
   "source": [
    "mean_arg_similarity_per_selection(gold_df_effective, 'dt_tokenized', 'discourse_type', gold_df_ineffective)"
   ]
  },
  {
   "cell_type": "code",
   "execution_count": 19,
   "metadata": {
    "pycharm": {
     "name": "#%%\n"
    }
   },
   "outputs": [
    {
     "name": "stdout",
     "output_type": "stream",
     "text": [
      "0\n",
      "{('Lead', 'Lead'): 0.24470288173789742, ('Lead', 'Position'): 0.21749157890860435, ('Lead', 'Claim'): 0.18925147683187, ('Lead', 'Evidence'): 0.23212998524319953, ('Lead', 'Counterclaim'): 0.18907975188209544, ('Lead', 'Rebuttal'): 0.18011763264518701, ('Lead', 'Concluding Statement'): 0.2241714376248291, ('Position', 'Position'): 0.2284260355017516, ('Position', 'Claim'): 0.1697518261895235, ('Position', 'Evidence'): 0.20465038160686835, ('Position', 'Counterclaim'): 0.16854520130270936, ('Position', 'Rebuttal'): 0.15948609527769175, ('Position', 'Concluding Statement'): 0.2138089072851158, ('Claim', 'Claim'): 0.15426536403472763, ('Claim', 'Evidence'): 0.1982848226019764, ('Claim', 'Counterclaim'): 0.15434876677644302, ('Claim', 'Rebuttal'): 0.14547792017173633, ('Claim', 'Concluding Statement'): 0.1900283260147172, ('Evidence', 'Evidence'): 0.2463728224251335, ('Evidence', 'Counterclaim'): 0.20006706398218327, ('Evidence', 'Rebuttal'): 0.19646411495856397, ('Evidence', 'Concluding Statement'): 0.2271899033806607, ('Counterclaim', 'Counterclaim'): 0.18842193001500482, ('Counterclaim', 'Rebuttal'): 0.1525384342096601, ('Counterclaim', 'Concluding Statement'): 0.1908237658659918, ('Rebuttal', 'Rebuttal'): 0.1949645947917358, ('Rebuttal', 'Concluding Statement'): 0.19350282169798272, ('Concluding Statement', 'Concluding Statement'): 0.238930008189847}\n",
      "1\n",
      "{('Lead', 'Lead'): 0.23740620173230836, ('Lead', 'Position'): 0.21667685723086602, ('Lead', 'Claim'): 0.18279898177795167, ('Lead', 'Evidence'): 0.2072910159121954, ('Lead', 'Counterclaim'): 0.1881618632249057, ('Lead', 'Rebuttal'): 0.18713292456673694, ('Lead', 'Concluding Statement'): 0.22326339741330414, ('Position', 'Position'): 0.23275042111597752, ('Position', 'Claim'): 0.16954932870926664, ('Position', 'Evidence'): 0.1994766356478488, ('Position', 'Counterclaim'): 0.1642236343790417, ('Position', 'Rebuttal'): 0.17625971185438583, ('Position', 'Concluding Statement'): 0.2289828747599185, ('Claim', 'Claim'): 0.15048922282178248, ('Claim', 'Evidence'): 0.18259973837582597, ('Claim', 'Counterclaim'): 0.14558593332210817, ('Claim', 'Rebuttal'): 0.15597758588502583, ('Claim', 'Concluding Statement'): 0.19136871541771253, ('Evidence', 'Evidence'): 0.2126943507218978, ('Evidence', 'Counterclaim'): 0.17598644309126252, ('Evidence', 'Rebuttal'): 0.18769702764336546, ('Evidence', 'Concluding Statement'): 0.2148539266920784, ('Counterclaim', 'Counterclaim'): 0.16985866832743396, ('Counterclaim', 'Rebuttal'): 0.15516191949752553, ('Counterclaim', 'Concluding Statement'): 0.18773234636394387, ('Rebuttal', 'Rebuttal'): 0.17989317508251398, ('Rebuttal', 'Concluding Statement'): 0.20133907282642327, ('Concluding Statement', 'Concluding Statement'): 0.2414776690408031}\n",
      "2\n",
      "{('Lead', 'Lead'): 0.2520269334073673, ('Lead', 'Position'): 0.22164218708662944, ('Lead', 'Claim'): 0.19686522545617005, ('Lead', 'Evidence'): 0.23296433327573676, ('Lead', 'Counterclaim'): 0.20043489258491295, ('Lead', 'Rebuttal'): 0.19629647975911485, ('Lead', 'Concluding Statement'): 0.23272215313902228, ('Position', 'Position'): 0.2259748118785331, ('Position', 'Claim'): 0.1684406173752435, ('Position', 'Evidence'): 0.20427447684871022, ('Position', 'Counterclaim'): 0.17385907399046188, ('Position', 'Rebuttal'): 0.16782662150656708, ('Position', 'Concluding Statement'): 0.22299740801885948, ('Claim', 'Claim'): 0.15866896862793844, ('Claim', 'Evidence'): 0.1995817020474387, ('Claim', 'Counterclaim'): 0.16258697386951712, ('Claim', 'Rebuttal'): 0.1612091075523025, ('Claim', 'Concluding Statement'): 0.19455535483065942, ('Evidence', 'Evidence'): 0.24115864647226917, ('Evidence', 'Counterclaim'): 0.20122856240387102, ('Evidence', 'Rebuttal'): 0.20225614336450995, ('Evidence', 'Concluding Statement'): 0.22579663658848817, ('Counterclaim', 'Counterclaim'): 0.17814664213344442, ('Counterclaim', 'Rebuttal'): 0.16417535563256522, ('Counterclaim', 'Concluding Statement'): 0.19454036306973377, ('Rebuttal', 'Rebuttal'): 0.17998003473027396, ('Rebuttal', 'Concluding Statement'): 0.1983804543013522, ('Concluding Statement', 'Concluding Statement'): 0.23965198498526732}\n",
      "3\n",
      "{('Lead', 'Lead'): 0.2478612483057734, ('Lead', 'Position'): 0.21097775923500928, ('Lead', 'Claim'): 0.1953157961303405, ('Lead', 'Evidence'): 0.22805649178984608, ('Lead', 'Counterclaim'): 0.17427841067002403, ('Lead', 'Rebuttal'): 0.19388463240931014, ('Lead', 'Concluding Statement'): 0.2377767672766218, ('Position', 'Position'): 0.23533483308434872, ('Position', 'Claim'): 0.1658941016136795, ('Position', 'Evidence'): 0.20838036608947247, ('Position', 'Counterclaim'): 0.15202592864716366, ('Position', 'Rebuttal'): 0.16363797425815937, ('Position', 'Concluding Statement'): 0.2329862678203642, ('Claim', 'Claim'): 0.16469163603279868, ('Claim', 'Evidence'): 0.20501851584838734, ('Claim', 'Counterclaim'): 0.14078265189080263, ('Claim', 'Rebuttal'): 0.16793241709472131, ('Claim', 'Concluding Statement'): 0.20776294539805662, ('Evidence', 'Evidence'): 0.2424924110320823, ('Evidence', 'Counterclaim'): 0.187528148500999, ('Evidence', 'Rebuttal'): 0.21082006605213977, ('Evidence', 'Concluding Statement'): 0.2425565029531345, ('Counterclaim', 'Counterclaim'): 0.17255325059163346, ('Counterclaim', 'Rebuttal'): 0.15553558094730316, ('Counterclaim', 'Concluding Statement'): 0.19068882979527907, ('Rebuttal', 'Rebuttal'): 0.22013465428247664, ('Rebuttal', 'Concluding Statement'): 0.21048255562270832, ('Concluding Statement', 'Concluding Statement'): 0.26776363417104165}\n",
      "4\n",
      "{('Lead', 'Lead'): 0.2328262193541433, ('Lead', 'Position'): 0.20927030786908363, ('Lead', 'Claim'): 0.17733549353205097, ('Lead', 'Evidence'): 0.22443326352227264, ('Lead', 'Counterclaim'): 0.18998061988043427, ('Lead', 'Rebuttal'): 0.1936197988143321, ('Lead', 'Concluding Statement'): 0.23291650782151072, ('Position', 'Position'): 0.21144748123316578, ('Position', 'Claim'): 0.15250575537970257, ('Position', 'Evidence'): 0.208074397076155, ('Position', 'Counterclaim'): 0.1696299945237347, ('Position', 'Rebuttal'): 0.17229515451660257, ('Position', 'Concluding Statement'): 0.22676386028244222, ('Claim', 'Claim'): 0.13943778935974374, ('Claim', 'Evidence'): 0.19999143983417, ('Claim', 'Counterclaim'): 0.15566930720280617, ('Claim', 'Rebuttal'): 0.16669371410017772, ('Claim', 'Concluding Statement'): 0.1974523693275532, ('Evidence', 'Evidence'): 0.25232176762149117, ('Evidence', 'Counterclaim'): 0.2119593783060988, ('Evidence', 'Rebuttal'): 0.22487767395986719, ('Evidence', 'Concluding Statement'): 0.2436652689010452, ('Counterclaim', 'Counterclaim'): 0.18687632758791448, ('Counterclaim', 'Rebuttal'): 0.18012076800004231, ('Counterclaim', 'Concluding Statement'): 0.2074741559047645, ('Rebuttal', 'Rebuttal'): 0.21714181698799195, ('Rebuttal', 'Concluding Statement'): 0.21655316399156274, ('Concluding Statement', 'Concluding Statement'): 0.25837170159319145}\n",
      "5\n",
      "{('Lead', 'Lead'): 0.24624712186699585, ('Lead', 'Position'): 0.20225392123565036, ('Lead', 'Claim'): 0.1794781654826846, ('Lead', 'Evidence'): 0.24335312241514145, ('Lead', 'Counterclaim'): 0.18561356672012966, ('Lead', 'Rebuttal'): 0.1896397771828441, ('Lead', 'Concluding Statement'): 0.253870906255593, ('Position', 'Position'): 0.20991673241649703, ('Position', 'Claim'): 0.1480010180548182, ('Position', 'Evidence'): 0.22047996504017503, ('Position', 'Counterclaim'): 0.15050187684155122, ('Position', 'Rebuttal'): 0.1636840848226522, ('Position', 'Concluding Statement'): 0.2518349841189146, ('Claim', 'Claim'): 0.14011337807258314, ('Claim', 'Evidence'): 0.2147408658000911, ('Claim', 'Counterclaim'): 0.13660607764122043, ('Claim', 'Rebuttal'): 0.149856284208272, ('Claim', 'Concluding Statement'): 0.22229327078196193, ('Evidence', 'Evidence'): 0.27263429441514164, ('Evidence', 'Counterclaim'): 0.2117759587785721, ('Evidence', 'Rebuttal'): 0.22334905665667062, ('Evidence', 'Concluding Statement'): 0.2714214133709005, ('Counterclaim', 'Counterclaim'): 0.20615507058679455, ('Counterclaim', 'Rebuttal'): 0.15495047295035672, ('Counterclaim', 'Concluding Statement'): 0.21222907180716183, ('Rebuttal', 'Rebuttal'): 0.2534571224785924, ('Rebuttal', 'Concluding Statement'): 0.22459751716161683, ('Concluding Statement', 'Concluding Statement'): 0.2982801585781207}\n",
      "6\n",
      "{('Lead', 'Lead'): 0.2328744338586361, ('Lead', 'Position'): 0.1996805825109083, ('Lead', 'Claim'): 0.16758831214277128, ('Lead', 'Evidence'): 0.1928095583383101, ('Lead', 'Counterclaim'): 0.16601779749418652, ('Lead', 'Rebuttal'): 0.16595158590548406, ('Lead', 'Concluding Statement'): 0.19934866222443076, ('Position', 'Position'): 0.2547009297383069, ('Position', 'Claim'): 0.1638793673351552, ('Position', 'Evidence'): 0.18267155102065016, ('Position', 'Counterclaim'): 0.1571342794042025, ('Position', 'Rebuttal'): 0.15338895149802803, ('Position', 'Concluding Statement'): 0.1984723765772206, ('Claim', 'Claim'): 0.15744164871837518, ('Claim', 'Evidence'): 0.18274362665010196, ('Claim', 'Counterclaim'): 0.1462649364786403, ('Claim', 'Rebuttal'): 0.14970131907346312, ('Claim', 'Concluding Statement'): 0.1718950211945087, ('Evidence', 'Evidence'): 0.21134014966175493, ('Evidence', 'Counterclaim'): 0.17386816939211297, ('Evidence', 'Rebuttal'): 0.18694421554859442, ('Evidence', 'Concluding Statement'): 0.1975149872454268, ('Counterclaim', 'Counterclaim'): 0.15530437056038954, ('Counterclaim', 'Rebuttal'): 0.14008515901199747, ('Counterclaim', 'Concluding Statement'): 0.1634460351372671, ('Rebuttal', 'Rebuttal'): 0.17584698960385134, ('Rebuttal', 'Concluding Statement'): 0.1756851796474734, ('Concluding Statement', 'Concluding Statement'): 0.20927786552100297}\n",
      "7\n",
      "{('Lead', 'Lead'): 0.21693753723654718, ('Lead', 'Position'): 0.1930683260555794, ('Lead', 'Claim'): 0.14942306969900118, ('Lead', 'Evidence'): 0.18654378192787172, ('Lead', 'Counterclaim'): 0.1314933353579967, ('Lead', 'Rebuttal'): 0.16332323258310244, ('Lead', 'Concluding Statement'): 0.20534715322276528, ('Position', 'Position'): 0.2225510780924735, ('Position', 'Claim'): 0.13446336637546577, ('Position', 'Evidence'): 0.17471696238824608, ('Position', 'Counterclaim'): 0.11769581998919902, ('Position', 'Rebuttal'): 0.14952521927134843, ('Position', 'Concluding Statement'): 0.2102194271742525, ('Claim', 'Claim'): 0.1393226037950593, ('Claim', 'Evidence'): 0.18088228859450975, ('Claim', 'Counterclaim'): 0.11993675499679177, ('Claim', 'Rebuttal'): 0.15356955937749978, ('Claim', 'Concluding Statement'): 0.18698541416722167, ('Evidence', 'Evidence'): 0.2292759515274176, ('Evidence', 'Counterclaim'): 0.1641475673032465, ('Evidence', 'Rebuttal'): 0.20125430420058354, ('Evidence', 'Concluding Statement'): 0.21745924336322203, ('Counterclaim', 'Counterclaim'): 0.17206083635183644, ('Counterclaim', 'Rebuttal'): 0.14368148190766689, ('Counterclaim', 'Concluding Statement'): 0.16676233865639878, ('Rebuttal', 'Rebuttal'): 0.23885219824917037, ('Rebuttal', 'Concluding Statement'): 0.20666906445186137, ('Concluding Statement', 'Concluding Statement'): 0.24827039667575623}\n",
      "8\n",
      "{('Lead', 'Lead'): 0.29557019763181114, ('Lead', 'Position'): 0.23368781821659673, ('Lead', 'Claim'): 0.20931980594875735, ('Lead', 'Evidence'): 0.2665394653612466, ('Lead', 'Counterclaim'): 0.23031091603022238, ('Lead', 'Rebuttal'): 0.24084388129454395, ('Lead', 'Concluding Statement'): 0.28690895806792016, ('Position', 'Position'): 0.2870245526961112, ('Position', 'Claim'): 0.14048107414668987, ('Position', 'Evidence'): 0.21462220872094306, ('Position', 'Counterclaim'): 0.19234036699553922, ('Position', 'Rebuttal'): 0.17281685477041123, ('Position', 'Concluding Statement'): 0.26901800798826186, ('Claim', 'Claim'): 0.16302303704735946, ('Claim', 'Evidence'): 0.23709366967970252, ('Claim', 'Counterclaim'): 0.1806041731547443, ('Claim', 'Rebuttal'): 0.19903972907692466, ('Claim', 'Concluding Statement'): 0.243953187452713, ('Evidence', 'Evidence'): 0.29237815289666624, ('Evidence', 'Counterclaim'): 0.2415942474097746, ('Evidence', 'Rebuttal'): 0.26279903715403435, ('Evidence', 'Concluding Statement'): 0.29382688975018545, ('Counterclaim', 'Counterclaim'): 0.2306128217431981, ('Counterclaim', 'Rebuttal'): 0.21314439572109456, ('Counterclaim', 'Concluding Statement'): 0.2562607327727692, ('Rebuttal', 'Rebuttal'): 0.24495937041193055, ('Rebuttal', 'Concluding Statement'): 0.2694438870101974, ('Concluding Statement', 'Concluding Statement'): 0.31896108422474917}\n",
      "9\n",
      "{('Lead', 'Lead'): 0.21603970752991877, ('Lead', 'Position'): 0.17916637658343132, ('Lead', 'Claim'): 0.16046267253638277, ('Lead', 'Evidence'): 0.19575124134972022, ('Lead', 'Counterclaim'): 0.15858274650272855, ('Lead', 'Rebuttal'): 0.16209020829171505, ('Lead', 'Concluding Statement'): 0.19591875972014194, ('Position', 'Position'): 0.18312731505624436, ('Position', 'Claim'): 0.13381703425456168, ('Position', 'Evidence'): 0.17118094522698563, ('Position', 'Counterclaim'): 0.14017114128340843, ('Position', 'Rebuttal'): 0.14171884201173007, ('Position', 'Concluding Statement'): 0.19077925732439005, ('Claim', 'Claim'): 0.13318140909796966, ('Claim', 'Evidence'): 0.1730020759790933, ('Claim', 'Counterclaim'): 0.13355110874012682, ('Claim', 'Rebuttal'): 0.13837138551090394, ('Claim', 'Concluding Statement'): 0.17121595976289505, ('Evidence', 'Evidence'): 0.21148565954950052, ('Evidence', 'Counterclaim'): 0.1718483634335168, ('Evidence', 'Rebuttal'): 0.17977019385532425, ('Evidence', 'Concluding Statement'): 0.20226119409832816, ('Counterclaim', 'Counterclaim'): 0.15315005567299264, ('Counterclaim', 'Rebuttal'): 0.14742786058797247, ('Counterclaim', 'Concluding Statement'): 0.17401641491307568, ('Rebuttal', 'Rebuttal'): 0.1727030864257121, ('Rebuttal', 'Concluding Statement'): 0.1805178497460597, ('Concluding Statement', 'Concluding Statement'): 0.2164297019557273}\n",
      "10\n",
      "{('Lead', 'Lead'): 0.2507561313767137, ('Lead', 'Position'): 0.2538100026040027, ('Lead', 'Claim'): 0.18811937852483837, ('Lead', 'Evidence'): 0.2036349840095025, ('Lead', 'Counterclaim'): 0.1888139791188606, ('Lead', 'Rebuttal'): 0.19282743010576897, ('Lead', 'Concluding Statement'): 0.22919591987761015, ('Position', 'Position'): 0.3293389763375067, ('Position', 'Claim'): 0.19422077293031717, ('Position', 'Evidence'): 0.2049892078496962, ('Position', 'Counterclaim'): 0.19129823299439278, ('Position', 'Rebuttal'): 0.19169989958421832, ('Position', 'Concluding Statement'): 0.25253280427925656, ('Claim', 'Claim'): 0.16280423155694518, ('Claim', 'Evidence'): 0.18448440217784615, ('Claim', 'Counterclaim'): 0.15127927444033504, ('Claim', 'Rebuttal'): 0.16869644163920774, ('Claim', 'Concluding Statement'): 0.1926562509386257, ('Evidence', 'Evidence'): 0.21045813033613123, ('Evidence', 'Counterclaim'): 0.17520543718706774, ('Evidence', 'Rebuttal'): 0.19618916170401576, ('Evidence', 'Concluding Statement'): 0.20959120998259628, ('Counterclaim', 'Counterclaim'): 0.17350438440926028, ('Counterclaim', 'Rebuttal'): 0.16002389060990846, ('Counterclaim', 'Concluding Statement'): 0.18423856009658698, ('Rebuttal', 'Rebuttal'): 0.20042465919701563, ('Rebuttal', 'Concluding Statement'): 0.1994795671670548, ('Concluding Statement', 'Concluding Statement'): 0.2366190259072965}\n",
      "11\n",
      "{('Lead', 'Lead'): 0.22089519615289432, ('Lead', 'Position'): 0.17130099632043724, ('Lead', 'Claim'): 0.16055393203733753, ('Lead', 'Evidence'): 0.21957725923254268, ('Lead', 'Counterclaim'): 0.16868185903827074, ('Lead', 'Rebuttal'): 0.18125322446273556, ('Lead', 'Concluding Statement'): 0.21230020330670252, ('Position', 'Position'): 0.17106267811152367, ('Position', 'Claim'): 0.11604394477768067, ('Position', 'Evidence'): 0.1831114509938135, ('Position', 'Counterclaim'): 0.12199825924799625, ('Position', 'Rebuttal'): 0.14043353549544382, ('Position', 'Concluding Statement'): 0.18855407175049665, ('Claim', 'Claim'): 0.1163732072541476, ('Claim', 'Evidence'): 0.1849767583873068, ('Claim', 'Counterclaim'): 0.11835899455120939, ('Claim', 'Rebuttal'): 0.13898183386541188, ('Claim', 'Concluding Statement'): 0.1720149477912235, ('Evidence', 'Evidence'): 0.24339434996355466, ('Evidence', 'Counterclaim'): 0.1885772991520945, ('Evidence', 'Rebuttal'): 0.19611382371917602, ('Evidence', 'Concluding Statement'): 0.22161338641768133, ('Counterclaim', 'Counterclaim'): 0.17358527630268564, ('Counterclaim', 'Rebuttal'): 0.15156848653104812, ('Counterclaim', 'Concluding Statement'): 0.1692998935061923, ('Rebuttal', 'Rebuttal'): 0.20797939526744716, ('Rebuttal', 'Concluding Statement'): 0.1865659898436378, ('Concluding Statement', 'Concluding Statement'): 0.2309926153085918}\n",
      "12\n",
      "{('Lead', 'Lead'): 0.2182327177646887, ('Lead', 'Position'): 0.17079876207217204, ('Lead', 'Claim'): 0.15909392204579528, ('Lead', 'Evidence'): 0.2109074797720904, ('Lead', 'Counterclaim'): 0.16978148747213595, ('Lead', 'Rebuttal'): 0.18406631246667024, ('Lead', 'Concluding Statement'): 0.21499960591647238, ('Position', 'Position'): 0.16639545408871828, ('Position', 'Claim'): 0.11041895603661589, ('Position', 'Evidence'): 0.17170827127283542, ('Position', 'Counterclaim'): 0.12396517716438525, ('Position', 'Rebuttal'): 0.1390045689928894, ('Position', 'Concluding Statement'): 0.19119237036793676, ('Claim', 'Claim'): 0.11991246833862564, ('Claim', 'Evidence'): 0.18311578353029248, ('Claim', 'Counterclaim'): 0.1256007348515965, ('Claim', 'Rebuttal'): 0.1408087386545612, ('Claim', 'Concluding Statement'): 0.18102514426969782, ('Evidence', 'Evidence'): 0.23574319768450025, ('Evidence', 'Counterclaim'): 0.18810816155025611, ('Evidence', 'Rebuttal'): 0.20384080808988683, ('Evidence', 'Concluding Statement'): 0.23015831293900973, ('Counterclaim', 'Counterclaim'): 0.1544126766248133, ('Counterclaim', 'Rebuttal'): 0.14963679383728284, ('Counterclaim', 'Concluding Statement'): 0.18485640713265286, ('Rebuttal', 'Rebuttal'): 0.18956509111130404, ('Rebuttal', 'Concluding Statement'): 0.202285118319793, ('Concluding Statement', 'Concluding Statement'): 0.24144884622586316}\n",
      "13\n",
      "{('Lead', 'Lead'): 0.2572728913215844, ('Lead', 'Position'): 0.2116664568437473, ('Lead', 'Claim'): 0.19392752485064138, ('Lead', 'Evidence'): 0.239803771736204, ('Lead', 'Counterclaim'): 0.20169758079027533, ('Lead', 'Rebuttal'): 0.20345939468771002, ('Lead', 'Concluding Statement'): 0.2561514700061201, ('Position', 'Position'): 0.1997863286237731, ('Position', 'Claim'): 0.14124917604485918, ('Position', 'Evidence'): 0.19550138950590093, ('Position', 'Counterclaim'): 0.15460848857768336, ('Position', 'Rebuttal'): 0.14427967937165084, ('Position', 'Concluding Statement'): 0.22090489287035225, ('Claim', 'Claim'): 0.14406276463197482, ('Claim', 'Evidence'): 0.20270919123163153, ('Claim', 'Counterclaim'): 0.14764432104311317, ('Claim', 'Rebuttal'): 0.15417699357376885, ('Claim', 'Concluding Statement'): 0.21054052660597172, ('Evidence', 'Evidence'): 0.2534060200627052, ('Evidence', 'Counterclaim'): 0.20370591481399664, ('Evidence', 'Rebuttal'): 0.21452652425936167, ('Evidence', 'Concluding Statement'): 0.25569010102970446, ('Counterclaim', 'Counterclaim'): 0.1695243500108249, ('Counterclaim', 'Rebuttal'): 0.16051714389124064, ('Counterclaim', 'Concluding Statement'): 0.21252944974216043, ('Rebuttal', 'Rebuttal'): 0.18253918693456625, ('Rebuttal', 'Concluding Statement'): 0.22161398624810888, ('Concluding Statement', 'Concluding Statement'): 0.27618922353683345}\n",
      "14\n",
      "{('Lead', 'Lead'): 0.2737495136805612, ('Lead', 'Position'): 0.2395409306165569, ('Lead', 'Claim'): 0.19199727252223772, ('Lead', 'Evidence'): 0.22944534063509042, ('Lead', 'Counterclaim'): 0.1872497666760213, ('Lead', 'Rebuttal'): 0.18247328986106925, ('Lead', 'Concluding Statement'): 0.24065904837815202, ('Position', 'Position'): 0.25027584497389077, ('Position', 'Claim'): 0.1795159800203268, ('Position', 'Evidence'): 0.22002279966873461, ('Position', 'Counterclaim'): 0.17375546572430048, ('Position', 'Rebuttal'): 0.16742462335193475, ('Position', 'Concluding Statement'): 0.2365358790518427, ('Claim', 'Claim'): 0.1629847058385318, ('Claim', 'Evidence'): 0.20391126027279122, ('Claim', 'Counterclaim'): 0.1514892276190367, ('Claim', 'Rebuttal'): 0.15386683291507042, ('Claim', 'Concluding Statement'): 0.19608356941942057, ('Evidence', 'Evidence'): 0.24624081723369168, ('Evidence', 'Counterclaim'): 0.19917959128375629, ('Evidence', 'Rebuttal'): 0.2059584260524347, ('Evidence', 'Concluding Statement'): 0.23378723018653433, ('Counterclaim', 'Counterclaim'): 0.1776379966833354, ('Counterclaim', 'Rebuttal'): 0.14594585623842568, ('Counterclaim', 'Concluding Statement'): 0.19529282126677422, ('Rebuttal', 'Rebuttal'): 0.1984954593493011, ('Rebuttal', 'Concluding Statement'): 0.1949883619209312, ('Concluding Statement', 'Concluding Statement'): 0.2527407564215941}\n"
     ]
    }
   ],
   "source": [
    "discourse_types = gold_df['discourse_type'].unique().tolist()\n",
    "\n",
    "for cluster in range(0, 15):\n",
    "\n",
    "    mean_similarities = dict()\n",
    "    overall_sum_similarity = 0\n",
    "    overall_comb_cnt = 0\n",
    "\n",
    "    gold_df_cluster = gold_df[gold_df.cluster == cluster]\n",
    "    for (dtype1, dtype2) in itertools.combinations_with_replacement(discourse_types, 2):\n",
    "        dtext_tokens_1 = gold_df_cluster[gold_df_cluster.discourse_type == dtype1]['dt_tokenized']\n",
    "        dtext_tokens_2 = gold_df_cluster[gold_df_cluster.discourse_type == dtype2]['dt_tokenized']\n",
    "        dt_combinations = list(itertools.product(dtext_tokens_1, dtext_tokens_2))\n",
    "\n",
    "        mean_similarities[(dtype1, dtype2)] = 0\n",
    "        for dt_combination in dt_combinations:\n",
    "            arg_similarity = argument_similarity(*dt_combination)\n",
    "            mean_similarities[(dtype1, dtype2)] += arg_similarity\n",
    "            overall_sum_similarity += arg_similarity\n",
    "        mean_similarities[(dtype1, dtype2)] /= len(dt_combinations)\n",
    "        overall_comb_cnt += len(dt_combinations)\n",
    "    print(cluster)\n",
    "    print(mean_similarities)\n"
   ]
  },
  {
   "cell_type": "code",
   "execution_count": 20,
   "metadata": {
    "pycharm": {
     "name": "#%%\n"
    }
   },
   "outputs": [
    {
     "name": "stdout",
     "output_type": "stream",
     "text": [
      "⌀ = 0.16416527014005883\n",
      "⌀ w = 0.17094117521016802\n"
     ]
    },
    {
     "data": {
      "text/plain": [
       "{0: 0.18392811136780976,\n",
       " 1: 0.1605408740979455,\n",
       " 2: 0.16113375142434655,\n",
       " 3: 0.17778151026021477,\n",
       " 4: 0.16935174658083404,\n",
       " 5: 0.16586453358954922,\n",
       " 6: 0.14765600135846235,\n",
       " 7: 0.1398231446247821,\n",
       " 8: 0.177607103476657,\n",
       " 9: 0.17090750367014668,\n",
       " 10: 0.13491567379418085,\n",
       " 11: 0.18399385851451278,\n",
       " 12: 0.16302705066159728,\n",
       " 13: 0.18338251178073203,\n",
       " 14: 0.1425656768991113}"
      ]
     },
     "execution_count": 20,
     "metadata": {},
     "output_type": "execute_result"
    }
   ],
   "source": [
    "mean_arg_similarity_per_selection(gold_df_effective, 'dt_ofw_bigrams', 'cluster')"
   ]
  },
  {
   "cell_type": "code",
   "execution_count": 21,
   "metadata": {
    "pycharm": {
     "name": "#%%\n"
    }
   },
   "outputs": [
    {
     "name": "stdout",
     "output_type": "stream",
     "text": [
      "⌀ = 0.11745676373847387\n",
      "⌀ w = 0.12355085461194991\n"
     ]
    },
    {
     "data": {
      "text/plain": [
       "{0: 0.1293351168780475,\n",
       " 1: 0.10155260558073946,\n",
       " 2: 0.1280825493465467,\n",
       " 3: 0.11957282082096352,\n",
       " 4: 0.1303521924160099,\n",
       " 5: 0.0988002711922925,\n",
       " 6: 0.09337078133379698,\n",
       " 7: 0.14597912062199075,\n",
       " 8: 0.12797563259162184,\n",
       " 9: 0.11644211777815199,\n",
       " 10: 0.09137684616971158,\n",
       " 11: 0.16846848780354323,\n",
       " 12: 0.09800122798140652,\n",
       " 13: 0.10902751037031147,\n",
       " 14: 0.10351417519197414}"
      ]
     },
     "execution_count": 21,
     "metadata": {},
     "output_type": "execute_result"
    }
   ],
   "source": [
    "mean_arg_similarity_per_selection(gold_df_ineffective, 'dt_ofw_bigrams', 'cluster')"
   ]
  },
  {
   "cell_type": "code",
   "execution_count": 22,
   "metadata": {
    "pycharm": {
     "name": "#%%\n"
    }
   },
   "outputs": [
    {
     "name": "stdout",
     "output_type": "stream",
     "text": [
      "⌀ = 0.13437035874900408\n",
      "⌀ w = 0.13837890274188797\n"
     ]
    },
    {
     "data": {
      "text/plain": [
       "{0: 0.14857562108986686,\n",
       " 1: 0.11866351698002503,\n",
       " 2: 0.14117810317564414,\n",
       " 3: 0.14093416052884694,\n",
       " 4: 0.1454479701549203,\n",
       " 5: 0.13318848368607825,\n",
       " 6: 0.11476411445780829,\n",
       " 7: 0.13433524846318257,\n",
       " 8: 0.14530014787337667,\n",
       " 9: 0.13263309458028136,\n",
       " 10: 0.11068575884493907,\n",
       " 11: 0.16849266302503155,\n",
       " 12: 0.12558810091787326,\n",
       " 13: 0.13613757420002381,\n",
       " 14: 0.11963082325716332}"
      ]
     },
     "execution_count": 22,
     "metadata": {},
     "output_type": "execute_result"
    }
   ],
   "source": [
    "mean_arg_similarity_per_selection(gold_df_effective, 'dt_ofw_bigrams', 'cluster', gold_df_ineffective)"
   ]
  },
  {
   "cell_type": "code",
   "execution_count": 23,
   "metadata": {
    "pycharm": {
     "name": "#%%\n"
    }
   },
   "outputs": [
    {
     "name": "stdout",
     "output_type": "stream",
     "text": [
      "⌀ = 0.1497849381211653\n",
      "⌀ w = 0.14122350941108325\n"
     ]
    },
    {
     "data": {
      "text/plain": [
       "{'Lead': 0.18100876640034497,\n",
       " 'Position': 0.11037151080537236,\n",
       " 'Concluding Statement': 0.20811706708487449,\n",
       " 'Claim': 0.09162937494926329,\n",
       " 'Rebuttal': 0.13977660271919132,\n",
       " 'Counterclaim': 0.11214880025377001,\n",
       " 'Evidence': 0.20544244463534053}"
      ]
     },
     "execution_count": 23,
     "metadata": {},
     "output_type": "execute_result"
    }
   ],
   "source": [
    "mean_arg_similarity_per_selection(gold_df_effective, 'dt_ofw_bigrams', 'discourse_type')"
   ]
  },
  {
   "cell_type": "code",
   "execution_count": 24,
   "metadata": {
    "pycharm": {
     "name": "#%%\n"
    }
   },
   "outputs": [
    {
     "name": "stdout",
     "output_type": "stream",
     "text": [
      "⌀ = 0.09037441176829351\n",
      "⌀ w = 0.12364402961657248\n"
     ]
    },
    {
     "data": {
      "text/plain": [
       "{'Position': 0.07490630715585997,\n",
       " 'Lead': 0.10643029656640433,\n",
       " 'Concluding Statement': 0.096090317884012,\n",
       " 'Claim': 0.06883751470735829,\n",
       " 'Rebuttal': 0.07634031608170269,\n",
       " 'Counterclaim': 0.07173671497067434,\n",
       " 'Evidence': 0.13827941501204305}"
      ]
     },
     "execution_count": 24,
     "metadata": {},
     "output_type": "execute_result"
    }
   ],
   "source": [
    "mean_arg_similarity_per_selection(gold_df_ineffective, 'dt_ofw_bigrams', 'discourse_type')"
   ]
  },
  {
   "cell_type": "code",
   "execution_count": 25,
   "metadata": {
    "pycharm": {
     "name": "#%%\n"
    }
   },
   "outputs": [
    {
     "name": "stdout",
     "output_type": "stream",
     "text": [
      "⌀ = 0.11527937144578061\n",
      "⌀ w = 0.13426632277355582\n"
     ]
    },
    {
     "data": {
      "text/plain": [
       "{'Lead': 0.14215464648646314,\n",
       " 'Position': 0.08660631388842356,\n",
       " 'Concluding Statement': 0.14324399874272092,\n",
       " 'Claim': 0.07685386423849387,\n",
       " 'Rebuttal': 0.10227382900835409,\n",
       " 'Counterclaim': 0.087993866975062,\n",
       " 'Evidence': 0.16782908078094666}"
      ]
     },
     "execution_count": 25,
     "metadata": {},
     "output_type": "execute_result"
    }
   ],
   "source": [
    "mean_arg_similarity_per_selection(gold_df_effective, 'dt_ofw_bigrams', 'discourse_type', gold_df_ineffective)"
   ]
  },
  {
   "cell_type": "code",
   "execution_count": 26,
   "metadata": {
    "pycharm": {
     "name": "#%%\n"
    }
   },
   "outputs": [
    {
     "name": "stdout",
     "output_type": "stream",
     "text": [
      "⌀ = 0.03447670043118078\n",
      "⌀ w = 0.03627878285151256\n"
     ]
    },
    {
     "data": {
      "text/plain": [
       "{0: 0.04367752382634346,\n",
       " 1: 0.03595057427774131,\n",
       " 2: 0.03641938310859379,\n",
       " 3: 0.037976433048350994,\n",
       " 4: 0.03485854977150004,\n",
       " 5: 0.03469337767307289,\n",
       " 6: 0.025938519296751544,\n",
       " 7: 0.03074529979828981,\n",
       " 8: 0.038434330203106874,\n",
       " 9: 0.036717854038123596,\n",
       " 10: 0.024240060786478224,\n",
       " 11: 0.04018865782532133,\n",
       " 12: 0.03288977154466823,\n",
       " 13: 0.037645916794002525,\n",
       " 14: 0.026774254475367066}"
      ]
     },
     "execution_count": 26,
     "metadata": {},
     "output_type": "execute_result"
    }
   ],
   "source": [
    "mean_arg_similarity_per_selection(gold_df_effective, 'dt_ofw_trigrams', 'cluster')"
   ]
  },
  {
   "cell_type": "code",
   "execution_count": 27,
   "metadata": {
    "pycharm": {
     "name": "#%%\n"
    }
   },
   "outputs": [
    {
     "name": "stdout",
     "output_type": "stream",
     "text": [
      "⌀ = 0.021205766195827994\n",
      "⌀ w = 0.024070817074008884\n"
     ]
    },
    {
     "data": {
      "text/plain": [
       "{0: 0.02510541685805953,\n",
       " 1: 0.016422452783658576,\n",
       " 2: 0.0260332969546827,\n",
       " 3: 0.01957929465808649,\n",
       " 4: 0.02198432390225014,\n",
       " 5: 0.013612316287964376,\n",
       " 6: 0.013558486132616608,\n",
       " 7: 0.03352572027674118,\n",
       " 8: 0.022725768255345166,\n",
       " 9: 0.020500449642063052,\n",
       " 10: 0.014428462447288395,\n",
       " 11: 0.040645692619043924,\n",
       " 12: 0.01447471826516854,\n",
       " 13: 0.01806142179766601,\n",
       " 14: 0.017428672056785204}"
      ]
     },
     "execution_count": 27,
     "metadata": {},
     "output_type": "execute_result"
    }
   ],
   "source": [
    "mean_arg_similarity_per_selection(gold_df_ineffective, 'dt_ofw_trigrams', 'cluster')"
   ]
  },
  {
   "cell_type": "code",
   "execution_count": 28,
   "metadata": {
    "pycharm": {
     "name": "#%%\n"
    }
   },
   "outputs": [
    {
     "name": "stdout",
     "output_type": "stream",
     "text": [
      "⌀ = 0.024504644728488977\n",
      "⌀ w = 0.0271396748304852\n"
     ]
    },
    {
     "data": {
      "text/plain": [
       "{0: 0.028947303614045485,\n",
       " 1: 0.020748668496878182,\n",
       " 2: 0.029412154603819515,\n",
       " 3: 0.026091946885626896,\n",
       " 4: 0.026459621306056554,\n",
       " 5: 0.020460923993268876,\n",
       " 6: 0.01759712728486228,\n",
       " 7: 0.027617537230521405,\n",
       " 8: 0.027030218500215586,\n",
       " 9: 0.023286578891667263,\n",
       " 10: 0.018243276574215803,\n",
       " 11: 0.03691843811079213,\n",
       " 12: 0.02071222470272592,\n",
       " 13: 0.023433830265604506,\n",
       " 14: 0.020609820467034176}"
      ]
     },
     "execution_count": 28,
     "metadata": {},
     "output_type": "execute_result"
    }
   ],
   "source": [
    "mean_arg_similarity_per_selection(gold_df_effective, 'dt_ofw_trigrams', 'cluster', gold_df_ineffective)"
   ]
  },
  {
   "cell_type": "code",
   "execution_count": 29,
   "metadata": {
    "pycharm": {
     "name": "#%%\n"
    }
   },
   "outputs": [
    {
     "name": "stdout",
     "output_type": "stream",
     "text": [
      "⌀ = 0.028336852389009657\n",
      "⌀ w = 0.026073798338078557\n"
     ]
    },
    {
     "data": {
      "text/plain": [
       "{'Lead': 0.035959521726264584,\n",
       " 'Position': 0.019745377808625886,\n",
       " 'Concluding Statement': 0.043796019038327604,\n",
       " 'Claim': 0.01288801364941943,\n",
       " 'Rebuttal': 0.023795462135842032,\n",
       " 'Counterclaim': 0.01910484302235876,\n",
       " 'Evidence': 0.043068729342229294}"
      ]
     },
     "execution_count": 29,
     "metadata": {},
     "output_type": "execute_result"
    }
   ],
   "source": [
    "mean_arg_similarity_per_selection(gold_df_effective, 'dt_ofw_trigrams', 'discourse_type')"
   ]
  },
  {
   "cell_type": "code",
   "execution_count": 30,
   "metadata": {
    "pycharm": {
     "name": "#%%\n"
    }
   },
   "outputs": [
    {
     "name": "stdout",
     "output_type": "stream",
     "text": [
      "⌀ = 0.01388272553561454\n",
      "⌀ w = 0.021549157677740096\n"
     ]
    },
    {
     "data": {
      "text/plain": [
       "{'Position': 0.010386860794531017,\n",
       " 'Lead': 0.016989488980225086,\n",
       " 'Concluding Statement': 0.01383085345634225,\n",
       " 'Claim': 0.008279201736679788,\n",
       " 'Rebuttal': 0.011500668925770965,\n",
       " 'Counterclaim': 0.011087873626499005,\n",
       " 'Evidence': 0.02510413122925369}"
      ]
     },
     "execution_count": 30,
     "metadata": {},
     "output_type": "execute_result"
    }
   ],
   "source": [
    "mean_arg_similarity_per_selection(gold_df_ineffective, 'dt_ofw_trigrams', 'discourse_type')"
   ]
  },
  {
   "cell_type": "code",
   "execution_count": 31,
   "metadata": {
    "pycharm": {
     "name": "#%%\n"
    }
   },
   "outputs": [
    {
     "name": "stdout",
     "output_type": "stream",
     "text": [
      "⌀ = 0.01899626851337512\n",
      "⌀ w = 0.02366971592267722\n"
     ]
    },
    {
     "data": {
      "text/plain": [
       "{'Lead': 0.024748938683276888,\n",
       " 'Position': 0.012375562032803007,\n",
       " 'Concluding Statement': 0.024777651695416278,\n",
       " 'Claim': 0.009521542170209686,\n",
       " 'Rebuttal': 0.016147343247087727,\n",
       " 'Counterclaim': 0.013412032371183002,\n",
       " 'Evidence': 0.03199080939364925}"
      ]
     },
     "execution_count": 31,
     "metadata": {},
     "output_type": "execute_result"
    }
   ],
   "source": [
    "mean_arg_similarity_per_selection(gold_df_effective, 'dt_ofw_trigrams', 'discourse_type', gold_df_ineffective)"
   ]
  },
  {
   "cell_type": "code",
   "execution_count": 31,
   "metadata": {
    "pycharm": {
     "name": "#%%\n"
    }
   },
   "outputs": [],
   "source": []
  }
 ],
 "metadata": {
  "kernelspec": {
   "display_name": "Python 3",
   "language": "python",
   "name": "python3"
  },
  "language_info": {
   "codemirror_mode": {
    "name": "ipython",
    "version": 3
   },
   "file_extension": ".py",
   "mimetype": "text/x-python",
   "name": "python",
   "nbconvert_exporter": "python",
   "pygments_lexer": "ipython3",
   "version": "3.10.4"
  }
 },
 "nbformat": 4,
 "nbformat_minor": 1
}