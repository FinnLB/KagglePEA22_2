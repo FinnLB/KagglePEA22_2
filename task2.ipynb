{
 "cells": [
  {
   "cell_type": "markdown",
   "source": [
    "Issue: Can argumentative elements be better identified if they are \"effective\"?"
   ],
   "metadata": {
    "collapsed": false,
    "pycharm": {
     "name": "#%% md\n"
    }
   }
  },
  {
   "cell_type": "code",
   "execution_count": null,
   "outputs": [],
   "source": [
    "import itertools\n",
    "import pandas as pd\n",
    "import nltk\n",
    "import experiment_util"
   ],
   "metadata": {
    "collapsed": false,
    "pycharm": {
     "name": "#%%\n"
    }
   }
  },
  {
   "cell_type": "markdown",
   "source": [
    "Load gold-labeled data from the kaggle-competition as DataFrame and rename the columns such that existing code can be reused.\n",
    "Also load predictions from the \"Don't Drop the Topic\"-experiments (https://aclanthology.org/2022.bea-1.17/) and rename the columns."
   ],
   "metadata": {
    "collapsed": false,
    "pycharm": {
     "name": "#%% md\n"
    }
   }
  },
  {
   "cell_type": "code",
   "execution_count": 72,
   "outputs": [],
   "source": [
    "renaming_gold = {'essay_id': 'id', 'prediction_string': 'predictionstring'}\n",
    "renaming_pred = {'essay_id': 'id', 'prediction_string': 'predictionstring', 'discourse_type': 'class'}\n",
    "\n",
    "gold_df = pd.read_csv(\"merged.csv\")\n",
    "gold_df.rename(columns=renaming_gold, inplace=True)\n",
    "prediction_df = pd.read_csv(\"train1test2_prediction.csv\")\n",
    "prediction_df.rename(columns=renaming_pred, inplace=True)"
   ],
   "metadata": {
    "collapsed": false,
    "pycharm": {
     "name": "#%%\n"
    }
   }
  },
  {
   "cell_type": "markdown",
   "source": [
    "Append an extra column with the effectiveness to the gold_df.\n",
    "These additional gold-labels were gathered from a new kaggle-competition."
   ],
   "metadata": {
    "collapsed": false,
    "pycharm": {
     "name": "#%% md\n"
    }
   }
  },
  {
   "cell_type": "code",
   "execution_count": 73,
   "outputs": [],
   "source": [
    "clusters_df = pd.read_csv('clusters_effectivness.csv').set_index('id')\n",
    "gold_df = gold_df.join(clusters_df, on='id')"
   ],
   "metadata": {
    "collapsed": false,
    "pycharm": {
     "name": "#%%\n"
    }
   }
  },
  {
   "cell_type": "markdown",
   "source": [
    "Add columns based on the discourse_text containing:\n",
    "- only function words kept (content words replaced by their POS-tags),\n",
    "- bigrams of above\n",
    "- trigrams of above\n",
    "\n",
    "It is assumed that function words can be identified by the closed-class POS-tags below."
   ],
   "metadata": {
    "collapsed": false,
    "pycharm": {
     "name": "#%% md\n"
    }
   }
  },
  {
   "cell_type": "code",
   "execution_count": 74,
   "outputs": [
    {
     "data": {
      "text/plain": "       discourse_id            id  \\\n0      0013cc385424  007ACE74B050   \n1      9704a709b505  007ACE74B050   \n2      c22adee811b6  007ACE74B050   \n3      a10d361e54e4  007ACE74B050   \n4      db3e453ec4e2  007ACE74B050   \n...             ...           ...   \n36760  9f63b687e76a  FFA381E58FC6   \n36761  9d5bd7d86212  FFA381E58FC6   \n36762  f1b78becd573  FFA381E58FC6   \n36763  cc184624ca8e  FFA381E58FC6   \n36764  c8a973681feb  FFA381E58FC6   \n\n                                          discourse_text  \\\n0      Hi, i'm Isaac, i'm going to be writing about h...   \n1      On my perspective, I think that the face is a ...   \n2      I think that the face is a natural landform be...   \n3      If life was on Mars, we would know by now. The...   \n4      People thought that the face was formed by ali...   \n...                                                  ...   \n36760  For many people they don't like only asking on...   \n36761  also people have different views and opinions ...   \n36762  Advice is something that can impact a persons ...   \n36763  someone can use everything that many people sa...   \n36764  In conclusion asking for an opinion can be ben...   \n\n             discourse_type discourse_effectiveness  \\\n0                      Lead                Adequate   \n1                  Position                Adequate   \n2                     Claim                Adequate   \n3                  Evidence                Adequate   \n4              Counterclaim                Adequate   \n...                     ...                     ...   \n36760                 Claim                Adequate   \n36761                 Claim                Adequate   \n36762              Position                Adequate   \n36763              Evidence             Ineffective   \n36764  Concluding Statement             Ineffective   \n\n                                        predictionstring  cluster  \\\n0      0 1 2 3 4 5 6 7 8 9 10 11 12 13 14 15 16 17 18...        1   \n1      67 68 69 70 71 72 73 74 75 76 77 78 79 80 81 8...        1   \n2      108 109 110 111 112 113 114 115 116 117 118 11...        1   \n3      129 130 131 132 133 134 135 136 137 138 139 14...        1   \n4      201 202 203 204 205 206 207 208 209 210 211 21...        1   \n...                                                  ...      ...   \n36760  14 15 16 17 18 19 20 21 22 23 24 25 26 27 28 2...        5   \n36761                         35 36 37 38 39 40 41 42 43        5   \n36762  44 45 46 47 48 49 50 51 52 53 54 55 56 57 58 5...        5   \n36763  80 81 82 83 84 85 86 87 88 89 90 91 92 93 94 9...        5   \n36764        162 163 164 165 166 167 168 169 170 171 172        5   \n\n                                  dt_only_function_words  \\\n0      [NNP, ,, NN, VBP, NNP, ,, NN, VBP, VBG, to, VB...   \n1      [On, my, NN, ,, I, VBP, that, the, NN, VBZ, a,...   \n2      [I, VBP, that, the, NN, VBZ, a, JJ, NN, becaus...   \n3      [If, NN, VBD, on, NNP, ,, we, would, VB, by, R...   \n4      [NNS, VBD, that, the, NN, VBD, VBN, by, NNS, b...   \n...                                                  ...   \n36760  [For, JJ, NNS, they, VBP, RB, like, RB, VBG, C...   \n36761      [RB, NNS, VBP, JJ, NNS, and, NNS, on, NNS, .]   \n36762  [NNP, VBZ, NN, that, can, VB, a, NNS, NN, in, ...   \n36763  [NN, can, VB, NN, that, JJ, NNS, VBD, and, VB,...   \n36764  [In, NN, VBG, for, an, NN, can, VB, JJ, to, NN...   \n\n                                          dt_ofw_bigrams  \\\n0      [(NNP, ,), (,, NN), (NN, VBP), (VBP, NNP), (NN...   \n1      [(On, my), (my, NN), (NN, ,), (,, I), (I, VBP)...   \n2      [(I, VBP), (VBP, that), (that, the), (the, NN)...   \n3      [(If, NN), (NN, VBD), (VBD, on), (on, NNP), (N...   \n4      [(NNS, VBD), (VBD, that), (that, the), (the, N...   \n...                                                  ...   \n36760  [(For, JJ), (JJ, NNS), (NNS, they), (they, VBP...   \n36761  [(RB, NNS), (NNS, VBP), (VBP, JJ), (JJ, NNS), ...   \n36762  [(NNP, VBZ), (VBZ, NN), (NN, that), (that, can...   \n36763  [(NN, can), (can, VB), (VB, NN), (NN, that), (...   \n36764  [(In, NN), (NN, VBG), (VBG, for), (for, an), (...   \n\n                                         dt_ofw_trigrams  \n0      [(NNP, ,, NN), (,, NN, VBP), (NN, VBP, NNP), (...  \n1      [(On, my, NN), (my, NN, ,), (NN, ,, I), (,, I,...  \n2      [(I, VBP, that), (VBP, that, the), (that, the,...  \n3      [(If, NN, VBD), (NN, VBD, on), (VBD, on, NNP),...  \n4      [(NNS, VBD, that), (VBD, that, the), (that, th...  \n...                                                  ...  \n36760  [(For, JJ, NNS), (JJ, NNS, they), (NNS, they, ...  \n36761  [(RB, NNS, VBP), (NNS, VBP, JJ), (VBP, JJ, NNS...  \n36762  [(NNP, VBZ, NN), (VBZ, NN, that), (NN, that, c...  \n36763  [(NN, can, VB), (can, VB, NN), (VB, NN, that),...  \n36764  [(In, NN, VBG), (NN, VBG, for), (VBG, for, an)...  \n\n[36765 rows x 10 columns]",
      "text/html": "<div>\n<style scoped>\n    .dataframe tbody tr th:only-of-type {\n        vertical-align: middle;\n    }\n\n    .dataframe tbody tr th {\n        vertical-align: top;\n    }\n\n    .dataframe thead th {\n        text-align: right;\n    }\n</style>\n<table border=\"1\" class=\"dataframe\">\n  <thead>\n    <tr style=\"text-align: right;\">\n      <th></th>\n      <th>discourse_id</th>\n      <th>id</th>\n      <th>discourse_text</th>\n      <th>discourse_type</th>\n      <th>discourse_effectiveness</th>\n      <th>predictionstring</th>\n      <th>cluster</th>\n      <th>dt_only_function_words</th>\n      <th>dt_ofw_bigrams</th>\n      <th>dt_ofw_trigrams</th>\n    </tr>\n  </thead>\n  <tbody>\n    <tr>\n      <th>0</th>\n      <td>0013cc385424</td>\n      <td>007ACE74B050</td>\n      <td>Hi, i'm Isaac, i'm going to be writing about h...</td>\n      <td>Lead</td>\n      <td>Adequate</td>\n      <td>0 1 2 3 4 5 6 7 8 9 10 11 12 13 14 15 16 17 18...</td>\n      <td>1</td>\n      <td>[NNP, ,, NN, VBP, NNP, ,, NN, VBP, VBG, to, VB...</td>\n      <td>[(NNP, ,), (,, NN), (NN, VBP), (VBP, NNP), (NN...</td>\n      <td>[(NNP, ,, NN), (,, NN, VBP), (NN, VBP, NNP), (...</td>\n    </tr>\n    <tr>\n      <th>1</th>\n      <td>9704a709b505</td>\n      <td>007ACE74B050</td>\n      <td>On my perspective, I think that the face is a ...</td>\n      <td>Position</td>\n      <td>Adequate</td>\n      <td>67 68 69 70 71 72 73 74 75 76 77 78 79 80 81 8...</td>\n      <td>1</td>\n      <td>[On, my, NN, ,, I, VBP, that, the, NN, VBZ, a,...</td>\n      <td>[(On, my), (my, NN), (NN, ,), (,, I), (I, VBP)...</td>\n      <td>[(On, my, NN), (my, NN, ,), (NN, ,, I), (,, I,...</td>\n    </tr>\n    <tr>\n      <th>2</th>\n      <td>c22adee811b6</td>\n      <td>007ACE74B050</td>\n      <td>I think that the face is a natural landform be...</td>\n      <td>Claim</td>\n      <td>Adequate</td>\n      <td>108 109 110 111 112 113 114 115 116 117 118 11...</td>\n      <td>1</td>\n      <td>[I, VBP, that, the, NN, VBZ, a, JJ, NN, becaus...</td>\n      <td>[(I, VBP), (VBP, that), (that, the), (the, NN)...</td>\n      <td>[(I, VBP, that), (VBP, that, the), (that, the,...</td>\n    </tr>\n    <tr>\n      <th>3</th>\n      <td>a10d361e54e4</td>\n      <td>007ACE74B050</td>\n      <td>If life was on Mars, we would know by now. The...</td>\n      <td>Evidence</td>\n      <td>Adequate</td>\n      <td>129 130 131 132 133 134 135 136 137 138 139 14...</td>\n      <td>1</td>\n      <td>[If, NN, VBD, on, NNP, ,, we, would, VB, by, R...</td>\n      <td>[(If, NN), (NN, VBD), (VBD, on), (on, NNP), (N...</td>\n      <td>[(If, NN, VBD), (NN, VBD, on), (VBD, on, NNP),...</td>\n    </tr>\n    <tr>\n      <th>4</th>\n      <td>db3e453ec4e2</td>\n      <td>007ACE74B050</td>\n      <td>People thought that the face was formed by ali...</td>\n      <td>Counterclaim</td>\n      <td>Adequate</td>\n      <td>201 202 203 204 205 206 207 208 209 210 211 21...</td>\n      <td>1</td>\n      <td>[NNS, VBD, that, the, NN, VBD, VBN, by, NNS, b...</td>\n      <td>[(NNS, VBD), (VBD, that), (that, the), (the, N...</td>\n      <td>[(NNS, VBD, that), (VBD, that, the), (that, th...</td>\n    </tr>\n    <tr>\n      <th>...</th>\n      <td>...</td>\n      <td>...</td>\n      <td>...</td>\n      <td>...</td>\n      <td>...</td>\n      <td>...</td>\n      <td>...</td>\n      <td>...</td>\n      <td>...</td>\n      <td>...</td>\n    </tr>\n    <tr>\n      <th>36760</th>\n      <td>9f63b687e76a</td>\n      <td>FFA381E58FC6</td>\n      <td>For many people they don't like only asking on...</td>\n      <td>Claim</td>\n      <td>Adequate</td>\n      <td>14 15 16 17 18 19 20 21 22 23 24 25 26 27 28 2...</td>\n      <td>5</td>\n      <td>[For, JJ, NNS, they, VBP, RB, like, RB, VBG, C...</td>\n      <td>[(For, JJ), (JJ, NNS), (NNS, they), (they, VBP...</td>\n      <td>[(For, JJ, NNS), (JJ, NNS, they), (NNS, they, ...</td>\n    </tr>\n    <tr>\n      <th>36761</th>\n      <td>9d5bd7d86212</td>\n      <td>FFA381E58FC6</td>\n      <td>also people have different views and opinions ...</td>\n      <td>Claim</td>\n      <td>Adequate</td>\n      <td>35 36 37 38 39 40 41 42 43</td>\n      <td>5</td>\n      <td>[RB, NNS, VBP, JJ, NNS, and, NNS, on, NNS, .]</td>\n      <td>[(RB, NNS), (NNS, VBP), (VBP, JJ), (JJ, NNS), ...</td>\n      <td>[(RB, NNS, VBP), (NNS, VBP, JJ), (VBP, JJ, NNS...</td>\n    </tr>\n    <tr>\n      <th>36762</th>\n      <td>f1b78becd573</td>\n      <td>FFA381E58FC6</td>\n      <td>Advice is something that can impact a persons ...</td>\n      <td>Position</td>\n      <td>Adequate</td>\n      <td>44 45 46 47 48 49 50 51 52 53 54 55 56 57 58 5...</td>\n      <td>5</td>\n      <td>[NNP, VBZ, NN, that, can, VB, a, NNS, NN, in, ...</td>\n      <td>[(NNP, VBZ), (VBZ, NN), (NN, that), (that, can...</td>\n      <td>[(NNP, VBZ, NN), (VBZ, NN, that), (NN, that, c...</td>\n    </tr>\n    <tr>\n      <th>36763</th>\n      <td>cc184624ca8e</td>\n      <td>FFA381E58FC6</td>\n      <td>someone can use everything that many people sa...</td>\n      <td>Evidence</td>\n      <td>Ineffective</td>\n      <td>80 81 82 83 84 85 86 87 88 89 90 91 92 93 94 9...</td>\n      <td>5</td>\n      <td>[NN, can, VB, NN, that, JJ, NNS, VBD, and, VB,...</td>\n      <td>[(NN, can), (can, VB), (VB, NN), (NN, that), (...</td>\n      <td>[(NN, can, VB), (can, VB, NN), (VB, NN, that),...</td>\n    </tr>\n    <tr>\n      <th>36764</th>\n      <td>c8a973681feb</td>\n      <td>FFA381E58FC6</td>\n      <td>In conclusion asking for an opinion can be ben...</td>\n      <td>Concluding Statement</td>\n      <td>Ineffective</td>\n      <td>162 163 164 165 166 167 168 169 170 171 172</td>\n      <td>5</td>\n      <td>[In, NN, VBG, for, an, NN, can, VB, JJ, to, NN...</td>\n      <td>[(In, NN), (NN, VBG), (VBG, for), (for, an), (...</td>\n      <td>[(In, NN, VBG), (NN, VBG, for), (VBG, for, an)...</td>\n    </tr>\n  </tbody>\n</table>\n<p>36765 rows × 10 columns</p>\n</div>"
     },
     "execution_count": 74,
     "metadata": {},
     "output_type": "execute_result"
    }
   ],
   "source": [
    "gold_df['dt_tokenized'] = [nltk.tokenize.word_tokenize(dt) for dt in gold_df['discourse_text']]\n",
    "closed_class_pos_tags = [\"Cd\", \"CC\", \"DT\", \"EX\", \"IN\", \"LS\", \"MD\", \"PDT\", \"POS\",\n",
    "                      \"PRP\", \"PRP$\", \"RP\", \"TO\", \"UH\", \"WDT\", \"WP\", \"WP$\", \"WRB\"]\n",
    "tagged_tokens_dts = [nltk.pos_tag(dt) for dt in gold_df['dt_tokenized']]\n",
    "dts_only_function_words = []\n",
    "dts_ofw_bigrams = []\n",
    "dts_ofw_trigrams = []\n",
    "for tagged_tokens in tagged_tokens_dts:\n",
    "    dt_only_function_words = [(tagged_token[0] if tagged_token[1] in closed_class_pos_tags else tagged_token[1]) for tagged_token in tagged_tokens]\n",
    "    dts_only_function_words.append(dt_only_function_words)\n",
    "    dts_ofw_bigrams.append(list(nltk.bigrams(dt_only_function_words)))\n",
    "    dts_ofw_trigrams.append(list(nltk.trigrams(dt_only_function_words)))\n",
    "\n",
    "gold_df['dt_only_function_words'] = dts_only_function_words\n",
    "gold_df['dt_ofw_bigrams'] = dts_ofw_bigrams\n",
    "gold_df['dt_ofw_trigrams'] = dts_ofw_trigrams\n",
    "gold_df"
   ],
   "metadata": {
    "collapsed": false,
    "pycharm": {
     "name": "#%%\n"
    }
   }
  },
  {
   "cell_type": "markdown",
   "source": [
    "split up gold_df by effectiveness"
   ],
   "metadata": {
    "collapsed": false,
    "pycharm": {
     "name": "#%% md\n"
    }
   }
  },
  {
   "cell_type": "code",
   "execution_count": 75,
   "outputs": [],
   "source": [
    "gold_df_effective = gold_df[gold_df.discourse_effectiveness == 'Effective']\n",
    "gold_df_effective.to_csv('gold_effective.csv')\n",
    "gold_df_adequate = gold_df[gold_df.discourse_effectiveness == 'Adequate']\n",
    "gold_df_adequate.to_csv('gold_adequate.csv')\n",
    "gold_df_ineffective = gold_df[gold_df.discourse_effectiveness == 'Ineffective']\n",
    "gold_df_ineffective.to_csv('gold_ineffective.csv')"
   ],
   "metadata": {
    "collapsed": false,
    "pycharm": {
     "name": "#%%\n"
    }
   }
  },
  {
   "cell_type": "markdown",
   "source": [
    "Evaluate the prediction scores for all, effective, adequate and ineffective discourses respectively.\n",
    "Notice that **F1** is **not well suited** for comparison **here**.\n",
    "This is because any unmatched predictions are counted as *false positives*."
   ],
   "metadata": {
    "collapsed": false,
    "pycharm": {
     "name": "#%% md\n"
    }
   }
  },
  {
   "cell_type": "code",
   "execution_count": 76,
   "outputs": [
    {
     "name": "stdout",
     "output_type": "stream",
     "text": [
      "Overall evaluation: 0.5544623497603323\n"
     ]
    },
    {
     "data": {
      "text/plain": "{'Lead': {'TP': 1673,\n  'FP': 699,\n  'FN': 619,\n  'Precision': 0.7299301919720768,\n  'Recall': 0.7053119730185498,\n  'F1': 0.717409948542024},\n 'Position': {'TP': 1965,\n  'FP': 1104,\n  'FN': 2060,\n  'Precision': 0.48819875776397514,\n  'Recall': 0.6402737047898338,\n  'F1': 0.5539892867211729},\n 'Claim': {'TP': 4118,\n  'FP': 4255,\n  'FN': 7860,\n  'Precision': 0.34379696109534147,\n  'Recall': 0.49181894183685654,\n  'F1': 0.4046975578595646},\n 'Evidence': {'TP': 7321,\n  'FP': 4649,\n  'FN': 4785,\n  'Precision': 0.6047414505204031,\n  'Recall': 0.6116123642439432,\n  'F1': 0.6081575012460542},\n 'Counterclaim': {'TP': 836,\n  'FP': 931,\n  'FN': 938,\n  'Precision': 0.47125140924464487,\n  'Recall': 0.4731182795698925,\n  'F1': 0.4721829991527817},\n 'Rebuttal': {'TP': 460,\n  'FP': 614,\n  'FN': 785,\n  'Precision': 0.36947791164658633,\n  'Recall': 0.42830540037243947,\n  'F1': 0.39672272531263475},\n 'Concluding Statement': {'TP': 2553,\n  'FP': 1108,\n  'FN': 799,\n  'Precision': 0.7616348448687351,\n  'Recall': 0.697350450696531,\n  'F1': 0.7280764294880936},\n 'overall': {'TP': 18926,\n  'FP': 13360,\n  'FN': 17846,\n  'Precision': 0.5146850864788426,\n  'Recall': 0.5861983522269715,\n  'F1': 0.5544623497603323}}"
     },
     "execution_count": 76,
     "metadata": {},
     "output_type": "execute_result"
    }
   ],
   "source": [
    "experiment_util.model_evaluate(prediction_df, gold_df)[1]"
   ],
   "metadata": {
    "collapsed": false,
    "pycharm": {
     "name": "#%%\n"
    }
   }
  },
  {
   "cell_type": "code",
   "execution_count": 77,
   "outputs": [
    {
     "name": "stdout",
     "output_type": "stream",
     "text": [
      "Overall evaluation: 0.1195244716633719\n"
     ]
    },
    {
     "data": {
      "text/plain": "{'Rebuttal': {'TP': 60,\n  'FP': 1014,\n  'FN': 152,\n  'Precision': 0.2830188679245283,\n  'Recall': 0.055865921787709494,\n  'F1': 0.09331259720062209},\n 'Evidence': {'TP': 1610,\n  'FP': 10356,\n  'FN': 1547,\n  'Precision': 0.5099778270509978,\n  'Recall': 0.13454788567608222,\n  'F1': 0.2129207167889969},\n 'Claim': {'TP': 457,\n  'FP': 7878,\n  'FN': 1019,\n  'Precision': 0.30962059620596205,\n  'Recall': 0.05482903419316137,\n  'F1': 0.09316073794720212},\n 'Counterclaim': {'TP': 70,\n  'FP': 1697,\n  'FN': 136,\n  'Precision': 0.33980582524271846,\n  'Recall': 0.039615166949632144,\n  'F1': 0.07095793208312215},\n 'Position': {'TP': 140,\n  'FP': 2929,\n  'FN': 331,\n  'Precision': 0.29723991507430997,\n  'Recall': 0.045617464972303685,\n  'F1': 0.07909604519774012},\n 'Lead': {'TP': 186,\n  'FP': 2186,\n  'FN': 179,\n  'Precision': 0.5095890410958904,\n  'Recall': 0.07841483979763912,\n  'F1': 0.1359152356594812},\n 'Concluding Statement': {'TP': 321,\n  'FP': 3340,\n  'FN': 261,\n  'Precision': 0.5515463917525774,\n  'Recall': 0.08768096148593281,\n  'F1': 0.15130803676643884},\n 'overall': {'TP': 2844,\n  'FP': 29400,\n  'FN': 3625,\n  'Precision': 0.43963518318132633,\n  'Recall': 0.08820245627093412,\n  'F1': 0.1195244716633719}}"
     },
     "execution_count": 77,
     "metadata": {},
     "output_type": "execute_result"
    }
   ],
   "source": [
    "experiment_util.model_evaluate(prediction_df.copy(), gold_df_ineffective.copy())[1]"
   ],
   "metadata": {
    "collapsed": false,
    "pycharm": {
     "name": "#%%\n"
    }
   }
  },
  {
   "cell_type": "code",
   "execution_count": 78,
   "outputs": [
    {
     "name": "stdout",
     "output_type": "stream",
     "text": [
      "Overall evaluation: 0.4020783330457223\n"
     ]
    },
    {
     "data": {
      "text/plain": "{'Lead': {'TP': 886,\n  'FP': 1486,\n  'FN': 359,\n  'Precision': 0.7116465863453815,\n  'Recall': 0.37352445193929174,\n  'F1': 0.489908764169201},\n 'Position': {'TP': 1394,\n  'FP': 1675,\n  'FN': 1391,\n  'Precision': 0.5005385996409336,\n  'Recall': 0.4542196155099381,\n  'F1': 0.4762555517594807},\n 'Claim': {'TP': 2271,\n  'FP': 6083,\n  'FN': 4827,\n  'Precision': 0.31994928148774304,\n  'Recall': 0.27184582236054583,\n  'F1': 0.29394253171110535},\n 'Evidence': {'TP': 3457,\n  'FP': 8508,\n  'FN': 2608,\n  'Precision': 0.5699917559769168,\n  'Recall': 0.28892603426661095,\n  'F1': 0.3834719911259013},\n 'Counterclaim': {'TP': 497,\n  'FP': 1270,\n  'FN': 654,\n  'Precision': 0.4317984361424848,\n  'Recall': 0.2812676853423882,\n  'F1': 0.3406442769019877},\n 'Concluding Statement': {'TP': 1554,\n  'FP': 2107,\n  'FN': 392,\n  'Precision': 0.7985611510791367,\n  'Recall': 0.42447418738049714,\n  'F1': 0.5543071161048689},\n 'Rebuttal': {'TP': 244,\n  'FP': 830,\n  'FN': 450,\n  'Precision': 0.3515850144092219,\n  'Recall': 0.2271880819366853,\n  'F1': 0.27601809954751133},\n 'overall': {'TP': 10303,\n  'FP': 21959,\n  'FN': 10681,\n  'Precision': 0.4909931376286695,\n  'Recall': 0.31935403880726554,\n  'F1': 0.4020783330457223}}"
     },
     "execution_count": 78,
     "metadata": {},
     "output_type": "execute_result"
    }
   ],
   "source": [
    "experiment_util.model_evaluate(prediction_df.copy(), gold_df_adequate.copy())[1]"
   ],
   "metadata": {
    "collapsed": false,
    "pycharm": {
     "name": "#%%\n"
    }
   }
  },
  {
   "cell_type": "code",
   "execution_count": 79,
   "outputs": [
    {
     "name": "stdout",
     "output_type": "stream",
     "text": [
      "Overall evaluation: 0.275240039779121\n"
     ]
    },
    {
     "data": {
      "text/plain": "{'Lead': {'TP': 601,\n  'FP': 1771,\n  'FN': 83,\n  'Precision': 0.8786549707602339,\n  'Recall': 0.2533726812816189,\n  'F1': 0.3933246073298429},\n 'Position': {'TP': 431,\n  'FP': 2638,\n  'FN': 340,\n  'Precision': 0.5590142671854734,\n  'Recall': 0.14043662430759205,\n  'F1': 0.22447916666666667},\n 'Evidence': {'TP': 2254,\n  'FP': 9711,\n  'FN': 632,\n  'Precision': 0.781011781011781,\n  'Recall': 0.18838278311742582,\n  'F1': 0.30354858258703116},\n 'Claim': {'TP': 1390,\n  'FP': 6958,\n  'FN': 2016,\n  'Precision': 0.40810334703464474,\n  'Recall': 0.16650694777192143,\n  'F1': 0.236515228858261},\n 'Concluding Statement': {'TP': 678,\n  'FP': 2983,\n  'FN': 148,\n  'Precision': 0.8208232445520581,\n  'Recall': 0.18519530183010108,\n  'F1': 0.3022063739692445},\n 'Counterclaim': {'TP': 269,\n  'FP': 1498,\n  'FN': 150,\n  'Precision': 0.6420047732696897,\n  'Recall': 0.1522354272778721,\n  'F1': 0.24611161939615736},\n 'Rebuttal': {'TP': 156,\n  'FP': 918,\n  'FN': 185,\n  'Precision': 0.4574780058651026,\n  'Recall': 0.1452513966480447,\n  'F1': 0.22049469964664312},\n 'overall': {'TP': 5779,\n  'FP': 26477,\n  'FN': 3554,\n  'Precision': 0.6192006857387764,\n  'Recall': 0.17916046626984128,\n  'F1': 0.275240039779121}}"
     },
     "execution_count": 79,
     "metadata": {},
     "output_type": "execute_result"
    }
   ],
   "source": [
    "experiment_util.model_evaluate(prediction_df.copy(), gold_df_effective.copy())[1]"
   ],
   "metadata": {
    "collapsed": false,
    "pycharm": {
     "name": "#%%\n"
    }
   }
  },
  {
   "cell_type": "markdown",
   "source": [
    "Define how to measure the overlap between two arguments.\n",
    "`calc_overlap_mtc` is a variation of `experiment_util.calc_overlap`, but it considers multiple occurrences of a token."
   ],
   "metadata": {
    "collapsed": false,
    "pycharm": {
     "name": "#%% md\n"
    }
   }
  },
  {
   "cell_type": "code",
   "execution_count": 80,
   "outputs": [],
   "source": [
    "def calc_overlap_mtc(a: list, b):\n",
    "    # Length of each and intersection\n",
    "    try:\n",
    "        len_a = len(a)\n",
    "        len_b = len(b)\n",
    "        inter = 0\n",
    "        for tok in (set(a) & set(b)):\n",
    "            inter += min(a.count(tok), b.count(tok))\n",
    "        overlap_1 = inter / len_a\n",
    "        overlap_2 = inter / len_b\n",
    "        return overlap_1, overlap_2\n",
    "    except:  # at least one of the input is NaN\n",
    "        return 0, 0"
   ],
   "metadata": {
    "collapsed": false,
    "pycharm": {
     "name": "#%%\n"
    }
   }
  },
  {
   "cell_type": "code",
   "execution_count": null,
   "outputs": [],
   "source": [
    "# similarity-function between two arguments\n",
    "def argument_similarity(arg1, arg2):\n",
    "    overlap = calc_overlap_mtc(arg1, arg2)\n",
    "    return (overlap[0] + overlap[1]) / 2"
   ],
   "metadata": {
    "collapsed": false,
    "pycharm": {
     "name": "#%%\n"
    }
   }
  },
  {
   "cell_type": "code",
   "execution_count": 81,
   "outputs": [],
   "source": [
    "def mean_arg_similarity_per_selection(gold_df, dt_column, selector = 'cluster', scnd_gold_df = None):\n",
    "    mean_similarities = dict()\n",
    "    overall_sum_similarity = 0\n",
    "    overall_comb_cnt = 0\n",
    "    for selection in list(set(gold_df[selector].values)):    # for each cluster/ label\n",
    "        gold_df_selection = gold_df[gold_df[selector] == selection]\n",
    "        dtext_tokens = gold_df_selection[dt_column]\n",
    "\n",
    "        if scnd_gold_df is not None:\n",
    "            gold_df_selection2 = scnd_gold_df[scnd_gold_df[selector] == selection]\n",
    "            dtext_tokens2 = gold_df_selection2[dt_column]\n",
    "            dt_combinations = list(itertools.product(dtext_tokens, dtext_tokens2))\n",
    "        else:\n",
    "            dt_combinations = list(itertools.combinations(dtext_tokens, 2))\n",
    "\n",
    "        mean_similarities[selection] = 0\n",
    "        for dt_combination in dt_combinations:\n",
    "            arg_similarity = argument_similarity(*dt_combination)\n",
    "            mean_similarities[selection] += arg_similarity\n",
    "            overall_sum_similarity += arg_similarity\n",
    "        mean_similarities[selection] /= len(dt_combinations)\n",
    "        overall_comb_cnt += len(dt_combinations)\n",
    "\n",
    "    print(\"⌀ =\", sum(mean_similarities.values()) / len(mean_similarities.values()))\n",
    "    print(\"⌀ w =\", overall_sum_similarity / overall_comb_cnt)\n",
    "    return mean_similarities"
   ],
   "metadata": {
    "collapsed": false,
    "pycharm": {
     "name": "#%%\n"
    }
   }
  },
  {
   "cell_type": "code",
   "execution_count": 82,
   "outputs": [],
   "source": [
    "mean_arg_similarity_per_selection(gold_df_effective, 'dt_tokenized', 'cluster')"
   ],
   "metadata": {
    "collapsed": false,
    "pycharm": {
     "name": "#%%\n"
    }
   }
  },
  {
   "cell_type": "code",
   "execution_count": 83,
   "outputs": [],
   "source": [
    "mean_arg_similarity_per_selection(gold_df_ineffective, 'dt_tokenized', 'cluster')"
   ],
   "metadata": {
    "collapsed": false,
    "pycharm": {
     "name": "#%%\n"
    }
   }
  },
  {
   "cell_type": "code",
   "execution_count": 84,
   "outputs": [],
   "source": [
    "mean_arg_similarity_per_selection(gold_df_effective, 'dt_tokenized', 'cluster', gold_df_ineffective)"
   ],
   "metadata": {
    "collapsed": false,
    "pycharm": {
     "name": "#%%\n"
    }
   }
  },
  {
   "cell_type": "code",
   "execution_count": 85,
   "outputs": [],
   "source": [
    "mean_arg_similarity_per_selection(gold_df_effective, 'dt_tokenized', 'discourse_type')"
   ],
   "metadata": {
    "collapsed": false,
    "pycharm": {
     "name": "#%%\n"
    }
   }
  },
  {
   "cell_type": "code",
   "execution_count": 86,
   "outputs": [],
   "source": [
    "mean_arg_similarity_per_selection(gold_df_ineffective, 'dt_tokenized', 'discourse_type')"
   ],
   "metadata": {
    "collapsed": false,
    "pycharm": {
     "name": "#%%\n"
    }
   }
  },
  {
   "cell_type": "code",
   "execution_count": 87,
   "outputs": [],
   "source": [
    "mean_arg_similarity_per_selection(gold_df_effective, 'dt_tokenized', 'discourse_type', gold_df_ineffective)"
   ],
   "metadata": {
    "collapsed": false,
    "pycharm": {
     "name": "#%%\n"
    }
   }
  },
  {
   "cell_type": "code",
   "execution_count": 88,
   "outputs": [],
   "source": [
    "discourse_types = gold_df['discourse_type'].unique().tolist()\n",
    "\n",
    "for cluster in range(0, 15):\n",
    "\n",
    "    mean_similarities = dict()\n",
    "    overall_sum_similarity = 0\n",
    "    overall_comb_cnt = 0\n",
    "\n",
    "    gold_df_cluster = gold_df[gold_df.cluster == cluster]\n",
    "    for (dtype1, dtype2) in itertools.combinations_with_replacement(discourse_types, 2):\n",
    "        dtext_tokens_1 = gold_df_cluster[gold_df_cluster.discourse_type == dtype1]['dt_tokenized']\n",
    "        dtext_tokens_2 = gold_df_cluster[gold_df_cluster.discourse_type == dtype2]['dt_tokenized']\n",
    "        dt_combinations = list(itertools.product(dtext_tokens_1, dtext_tokens_2))\n",
    "\n",
    "        mean_similarities[(dtype1, dtype2)] = 0\n",
    "        for dt_combination in dt_combinations:\n",
    "            arg_similarity = argument_similarity(*dt_combination)\n",
    "            mean_similarities[(dtype1, dtype2)] += arg_similarity\n",
    "            overall_sum_similarity += arg_similarity\n",
    "        mean_similarities[(dtype1, dtype2)] /= len(dt_combinations)\n",
    "        overall_comb_cnt += len(dt_combinations)\n",
    "    print(cluster)\n",
    "    print(mean_similarities)\n"
   ],
   "metadata": {
    "collapsed": false,
    "pycharm": {
     "name": "#%%\n"
    }
   }
  },
  {
   "cell_type": "code",
   "execution_count": 90,
   "outputs": [
    {
     "name": "stdout",
     "output_type": "stream",
     "text": [
      "⌀ = 0.16416527014005883\n",
      "⌀ w = 0.17094117521016802\n"
     ]
    },
    {
     "data": {
      "text/plain": "{0: 0.18392811136780976,\n 1: 0.1605408740979455,\n 2: 0.16113375142434655,\n 3: 0.17778151026021477,\n 4: 0.16935174658083404,\n 5: 0.16586453358954922,\n 6: 0.14765600135846235,\n 7: 0.1398231446247821,\n 8: 0.177607103476657,\n 9: 0.17090750367014668,\n 10: 0.13491567379418085,\n 11: 0.18399385851451278,\n 12: 0.16302705066159728,\n 13: 0.18338251178073203,\n 14: 0.1425656768991113}"
     },
     "execution_count": 90,
     "metadata": {},
     "output_type": "execute_result"
    }
   ],
   "source": [
    "mean_arg_similarity_per_selection(gold_df_effective, 'dt_ofw_bigrams', 'cluster')"
   ],
   "metadata": {
    "collapsed": false,
    "pycharm": {
     "name": "#%%\n"
    }
   }
  },
  {
   "cell_type": "code",
   "execution_count": 91,
   "outputs": [
    {
     "name": "stdout",
     "output_type": "stream",
     "text": [
      "⌀ = 0.11745676373847387\n",
      "⌀ w = 0.12355085461194991\n"
     ]
    },
    {
     "data": {
      "text/plain": "{0: 0.1293351168780475,\n 1: 0.10155260558073946,\n 2: 0.1280825493465467,\n 3: 0.11957282082096352,\n 4: 0.1303521924160099,\n 5: 0.0988002711922925,\n 6: 0.09337078133379698,\n 7: 0.14597912062199075,\n 8: 0.12797563259162184,\n 9: 0.11644211777815199,\n 10: 0.09137684616971158,\n 11: 0.16846848780354323,\n 12: 0.09800122798140652,\n 13: 0.10902751037031147,\n 14: 0.10351417519197414}"
     },
     "execution_count": 91,
     "metadata": {},
     "output_type": "execute_result"
    }
   ],
   "source": [
    "mean_arg_similarity_per_selection(gold_df_ineffective, 'dt_ofw_bigrams', 'cluster')"
   ],
   "metadata": {
    "collapsed": false,
    "pycharm": {
     "name": "#%%\n"
    }
   }
  },
  {
   "cell_type": "code",
   "execution_count": 92,
   "outputs": [
    {
     "name": "stdout",
     "output_type": "stream",
     "text": [
      "⌀ = 0.13437035874900408\n",
      "⌀ w = 0.13837890274188797\n"
     ]
    },
    {
     "data": {
      "text/plain": "{0: 0.14857562108986686,\n 1: 0.11866351698002503,\n 2: 0.14117810317564414,\n 3: 0.14093416052884694,\n 4: 0.1454479701549203,\n 5: 0.13318848368607825,\n 6: 0.11476411445780829,\n 7: 0.13433524846318257,\n 8: 0.14530014787337667,\n 9: 0.13263309458028136,\n 10: 0.11068575884493907,\n 11: 0.16849266302503155,\n 12: 0.12558810091787326,\n 13: 0.13613757420002381,\n 14: 0.11963082325716332}"
     },
     "execution_count": 92,
     "metadata": {},
     "output_type": "execute_result"
    }
   ],
   "source": [
    "mean_arg_similarity_per_selection(gold_df_effective, 'dt_ofw_bigrams', 'cluster', gold_df_ineffective)"
   ],
   "metadata": {
    "collapsed": false,
    "pycharm": {
     "name": "#%%\n"
    }
   }
  },
  {
   "cell_type": "code",
   "execution_count": 93,
   "outputs": [
    {
     "name": "stdout",
     "output_type": "stream",
     "text": [
      "⌀ = 0.1497849381211653\n",
      "⌀ w = 0.1412235094105315\n"
     ]
    },
    {
     "data": {
      "text/plain": "{'Counterclaim': 0.11214880025377001,\n 'Concluding Statement': 0.20811706708487449,\n 'Position': 0.11037151080537236,\n 'Rebuttal': 0.13977660271919132,\n 'Evidence': 0.20544244463534053,\n 'Lead': 0.18100876640034497,\n 'Claim': 0.09162937494926329}"
     },
     "execution_count": 93,
     "metadata": {},
     "output_type": "execute_result"
    }
   ],
   "source": [
    "mean_arg_similarity_per_selection(gold_df_effective, 'dt_ofw_bigrams', 'discourse_type')"
   ],
   "metadata": {
    "collapsed": false,
    "pycharm": {
     "name": "#%%\n"
    }
   }
  },
  {
   "cell_type": "code",
   "execution_count": 94,
   "outputs": [
    {
     "name": "stdout",
     "output_type": "stream",
     "text": [
      "⌀ = 0.09037441176829353\n",
      "⌀ w = 0.12364402961661598\n"
     ]
    },
    {
     "data": {
      "text/plain": "{'Counterclaim': 0.07173671497067434,\n 'Concluding Statement': 0.096090317884012,\n 'Position': 0.07490630715585997,\n 'Rebuttal': 0.07634031608170269,\n 'Evidence': 0.13827941501204305,\n 'Lead': 0.10643029656640433,\n 'Claim': 0.06883751470735829}"
     },
     "execution_count": 94,
     "metadata": {},
     "output_type": "execute_result"
    }
   ],
   "source": [
    "mean_arg_similarity_per_selection(gold_df_ineffective, 'dt_ofw_bigrams', 'discourse_type')"
   ],
   "metadata": {
    "collapsed": false,
    "pycharm": {
     "name": "#%%\n"
    }
   }
  },
  {
   "cell_type": "code",
   "execution_count": 95,
   "outputs": [
    {
     "name": "stdout",
     "output_type": "stream",
     "text": [
      "⌀ = 0.1152793714457806\n",
      "⌀ w = 0.13426632277326986\n"
     ]
    },
    {
     "data": {
      "text/plain": "{'Counterclaim': 0.087993866975062,\n 'Concluding Statement': 0.14324399874272092,\n 'Position': 0.08660631388842356,\n 'Rebuttal': 0.10227382900835409,\n 'Evidence': 0.16782908078094666,\n 'Lead': 0.14215464648646314,\n 'Claim': 0.07685386423849387}"
     },
     "execution_count": 95,
     "metadata": {},
     "output_type": "execute_result"
    }
   ],
   "source": [
    "mean_arg_similarity_per_selection(gold_df_effective, 'dt_ofw_bigrams', 'discourse_type', gold_df_ineffective)"
   ],
   "metadata": {
    "collapsed": false,
    "pycharm": {
     "name": "#%%\n"
    }
   }
  },
  {
   "cell_type": "code",
   "execution_count": 96,
   "outputs": [
    {
     "name": "stdout",
     "output_type": "stream",
     "text": [
      "⌀ = 0.03447670043118078\n",
      "⌀ w = 0.03627878285151256\n"
     ]
    },
    {
     "data": {
      "text/plain": "{0: 0.04367752382634346,\n 1: 0.03595057427774131,\n 2: 0.03641938310859379,\n 3: 0.037976433048350994,\n 4: 0.03485854977150004,\n 5: 0.03469337767307289,\n 6: 0.025938519296751544,\n 7: 0.03074529979828981,\n 8: 0.038434330203106874,\n 9: 0.036717854038123596,\n 10: 0.024240060786478224,\n 11: 0.04018865782532133,\n 12: 0.03288977154466823,\n 13: 0.037645916794002525,\n 14: 0.026774254475367066}"
     },
     "execution_count": 96,
     "metadata": {},
     "output_type": "execute_result"
    }
   ],
   "source": [
    "mean_arg_similarity_per_selection(gold_df_effective, 'dt_ofw_trigrams', 'cluster')"
   ],
   "metadata": {
    "collapsed": false,
    "pycharm": {
     "name": "#%%\n"
    }
   }
  },
  {
   "cell_type": "code",
   "execution_count": 97,
   "outputs": [
    {
     "name": "stdout",
     "output_type": "stream",
     "text": [
      "⌀ = 0.021205766195827994\n",
      "⌀ w = 0.024070817074008884\n"
     ]
    },
    {
     "data": {
      "text/plain": "{0: 0.02510541685805953,\n 1: 0.016422452783658576,\n 2: 0.0260332969546827,\n 3: 0.01957929465808649,\n 4: 0.02198432390225014,\n 5: 0.013612316287964376,\n 6: 0.013558486132616608,\n 7: 0.03352572027674118,\n 8: 0.022725768255345166,\n 9: 0.020500449642063052,\n 10: 0.014428462447288395,\n 11: 0.040645692619043924,\n 12: 0.01447471826516854,\n 13: 0.01806142179766601,\n 14: 0.017428672056785204}"
     },
     "execution_count": 97,
     "metadata": {},
     "output_type": "execute_result"
    }
   ],
   "source": [
    "mean_arg_similarity_per_selection(gold_df_ineffective, 'dt_ofw_trigrams', 'cluster')"
   ],
   "metadata": {
    "collapsed": false,
    "pycharm": {
     "name": "#%%\n"
    }
   }
  },
  {
   "cell_type": "code",
   "execution_count": 98,
   "outputs": [
    {
     "name": "stdout",
     "output_type": "stream",
     "text": [
      "⌀ = 0.024504644728488977\n",
      "⌀ w = 0.0271396748304852\n"
     ]
    },
    {
     "data": {
      "text/plain": "{0: 0.028947303614045485,\n 1: 0.020748668496878182,\n 2: 0.029412154603819515,\n 3: 0.026091946885626896,\n 4: 0.026459621306056554,\n 5: 0.020460923993268876,\n 6: 0.01759712728486228,\n 7: 0.027617537230521405,\n 8: 0.027030218500215586,\n 9: 0.023286578891667263,\n 10: 0.018243276574215803,\n 11: 0.03691843811079213,\n 12: 0.02071222470272592,\n 13: 0.023433830265604506,\n 14: 0.020609820467034176}"
     },
     "execution_count": 98,
     "metadata": {},
     "output_type": "execute_result"
    }
   ],
   "source": [
    "mean_arg_similarity_per_selection(gold_df_effective, 'dt_ofw_trigrams', 'cluster', gold_df_ineffective)"
   ],
   "metadata": {
    "collapsed": false,
    "pycharm": {
     "name": "#%%\n"
    }
   }
  },
  {
   "cell_type": "code",
   "execution_count": 99,
   "outputs": [
    {
     "name": "stdout",
     "output_type": "stream",
     "text": [
      "⌀ = 0.028336852389009657\n",
      "⌀ w = 0.02607379833806306\n"
     ]
    },
    {
     "data": {
      "text/plain": "{'Counterclaim': 0.01910484302235876,\n 'Concluding Statement': 0.043796019038327604,\n 'Position': 0.019745377808625886,\n 'Rebuttal': 0.023795462135842032,\n 'Evidence': 0.043068729342229294,\n 'Lead': 0.035959521726264584,\n 'Claim': 0.01288801364941943}"
     },
     "execution_count": 99,
     "metadata": {},
     "output_type": "execute_result"
    }
   ],
   "source": [
    "mean_arg_similarity_per_selection(gold_df_effective, 'dt_ofw_trigrams', 'discourse_type')"
   ],
   "metadata": {
    "collapsed": false,
    "pycharm": {
     "name": "#%%\n"
    }
   }
  },
  {
   "cell_type": "code",
   "execution_count": 100,
   "outputs": [
    {
     "name": "stdout",
     "output_type": "stream",
     "text": [
      "⌀ = 0.01388272553561454\n",
      "⌀ w = 0.021549157677741227\n"
     ]
    },
    {
     "data": {
      "text/plain": "{'Counterclaim': 0.011087873626499005,\n 'Concluding Statement': 0.01383085345634225,\n 'Position': 0.010386860794531017,\n 'Rebuttal': 0.011500668925770965,\n 'Evidence': 0.02510413122925369,\n 'Lead': 0.016989488980225086,\n 'Claim': 0.008279201736679788}"
     },
     "execution_count": 100,
     "metadata": {},
     "output_type": "execute_result"
    }
   ],
   "source": [
    "mean_arg_similarity_per_selection(gold_df_ineffective, 'dt_ofw_trigrams', 'discourse_type')"
   ],
   "metadata": {
    "collapsed": false,
    "pycharm": {
     "name": "#%%\n"
    }
   }
  },
  {
   "cell_type": "code",
   "execution_count": 101,
   "outputs": [
    {
     "name": "stdout",
     "output_type": "stream",
     "text": [
      "⌀ = 0.01899626851337512\n",
      "⌀ w = 0.023669715922668838\n"
     ]
    },
    {
     "data": {
      "text/plain": "{'Counterclaim': 0.013412032371183002,\n 'Concluding Statement': 0.024777651695416278,\n 'Position': 0.012375562032803007,\n 'Rebuttal': 0.016147343247087727,\n 'Evidence': 0.03199080939364925,\n 'Lead': 0.024748938683276888,\n 'Claim': 0.009521542170209686}"
     },
     "execution_count": 101,
     "metadata": {},
     "output_type": "execute_result"
    }
   ],
   "source": [
    "mean_arg_similarity_per_selection(gold_df_effective, 'dt_ofw_trigrams', 'discourse_type', gold_df_ineffective)"
   ],
   "metadata": {
    "collapsed": false,
    "pycharm": {
     "name": "#%%\n"
    }
   }
  },
  {
   "cell_type": "code",
   "execution_count": null,
   "outputs": [],
   "source": [],
   "metadata": {
    "collapsed": false,
    "pycharm": {
     "name": "#%%\n"
    }
   }
  }
 ],
 "metadata": {
  "kernelspec": {
   "display_name": "Python 3",
   "language": "python",
   "name": "python3"
  },
  "language_info": {
   "codemirror_mode": {
    "name": "ipython",
    "version": 2
   },
   "file_extension": ".py",
   "mimetype": "text/x-python",
   "name": "python",
   "nbconvert_exporter": "python",
   "pygments_lexer": "ipython2",
   "version": "2.7.6"
  }
 },
 "nbformat": 4,
 "nbformat_minor": 0
}